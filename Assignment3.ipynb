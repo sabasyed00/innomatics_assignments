{
  "nbformat": 4,
  "nbformat_minor": 0,
  "metadata": {
    "colab": {
      "name": "Assignment3.ipynb",
      "provenance": [],
      "authorship_tag": "ABX9TyOD1p9gycvZG5eNxpsT8bIu",
      "include_colab_link": true
    },
    "kernelspec": {
      "name": "python3",
      "display_name": "Python 3"
    },
    "language_info": {
      "name": "python"
    }
  },
  "cells": [
    {
      "cell_type": "markdown",
      "metadata": {
        "id": "view-in-github",
        "colab_type": "text"
      },
      "source": [
        "<a href=\"https://colab.research.google.com/github/sabasyed00/innomatics_assignments/blob/main/Assignment3.ipynb\" target=\"_parent\"><img src=\"https://colab.research.google.com/assets/colab-badge.svg\" alt=\"Open In Colab\"/></a>"
      ]
    },
    {
      "cell_type": "markdown",
      "metadata": {
        "id": "dwKehZJ6jwGW"
      },
      "source": [
        "Assignment 3 -Math"
      ]
    },
    {
      "cell_type": "code",
      "metadata": {
        "colab": {
          "base_uri": "https://localhost:8080/"
        },
        "id": "0v7OEpTLhPuB",
        "outputId": "1277d509-ae0a-4013-fb58-36df443efdc4"
      },
      "source": [
        "#Hackerrank task 1 \n",
        "# Enter your code here. Read input from STDIN. Print output to STDOUT\n",
        "import cmath #Python has a built-in module that you can use for mathematical tasks for complex numbers.\n",
        "n= input()\n",
        "print (abs(complex(n))) #returns absolute value\n",
        "print (cmath.phase(complex(n)))"
      ],
      "execution_count": 1,
      "outputs": [
        {
          "output_type": "stream",
          "name": "stdout",
          "text": [
            "4\n",
            "4.0\n",
            "0.0\n"
          ]
        }
      ]
    },
    {
      "cell_type": "code",
      "metadata": {
        "colab": {
          "base_uri": "https://localhost:8080/"
        },
        "id": "jSoZjFCnj7Go",
        "outputId": "e981b1ca-e152-4946-b039-5dfcda48e3e2"
      },
      "source": [
        "#Hackerrank task 2  find the angle\n",
        "import math\n",
        "\n",
        "ab = int(input())\n",
        "bc = int(input())\n",
        "ac2 = ab**2 + bc**2\n",
        "print(str(round(math.degrees(math.acos(-1*(ab**2 - bc**2 - ac2)/(2*bc*math.sqrt(ac2))))))+ chr(176))"
      ],
      "execution_count": 2,
      "outputs": [
        {
          "output_type": "stream",
          "name": "stdout",
          "text": [
            "30\n",
            "54\n",
            "29°\n"
          ]
        }
      ]
    },
    {
      "cell_type": "code",
      "metadata": {
        "colab": {
          "base_uri": "https://localhost:8080/"
        },
        "id": "nM4zSQOemuBD",
        "outputId": "df682f05-46ab-4148-a285-2eaeec5dc7ba"
      },
      "source": [
        "#Hackerrank Task 3 Triangle Quest 2 \n",
        "for i in range(1, int(input()) + 1):  # More than 2 lines will result in 0 score. Do not leave a blank line also\n",
        "    print((10 ** i - 1) ** 2 // 81)"
      ],
      "execution_count": 3,
      "outputs": [
        {
          "output_type": "stream",
          "name": "stdout",
          "text": [
            "3\n",
            "1\n",
            "121\n",
            "12321\n"
          ]
        }
      ]
    },
    {
      "cell_type": "code",
      "metadata": {
        "colab": {
          "base_uri": "https://localhost:8080/"
        },
        "id": "rRfomsjNnRNr",
        "outputId": "fc131f74-6a83-4e09-f022-01866b49a8ca"
      },
      "source": [
        "#Hackerrank Task 4 Mod divmod\n",
        "div = divmod(int(input()), int(input()))\n",
        "print(*div, div, sep='\\n')"
      ],
      "execution_count": 4,
      "outputs": [
        {
          "output_type": "stream",
          "name": "stdout",
          "text": [
            "3\n",
            "5\n",
            "0\n",
            "3\n",
            "(0, 3)\n"
          ]
        }
      ]
    },
    {
      "cell_type": "code",
      "metadata": {
        "colab": {
          "base_uri": "https://localhost:8080/"
        },
        "id": "JXO_rsRCn0uU",
        "outputId": "3c25117f-1004-4810-90fb-1b904a6840a1"
      },
      "source": [
        "#Hackerrank Task 5 Mod power\n",
        "x, y, z = [int(input()) for _ in range(3)]\n",
        "print(pow(x, y), pow(x, y, z), sep='\\n')"
      ],
      "execution_count": 5,
      "outputs": [
        {
          "output_type": "stream",
          "name": "stdout",
          "text": [
            "5\n",
            "6\n",
            "7\n",
            "15625\n",
            "1\n"
          ]
        }
      ]
    },
    {
      "cell_type": "code",
      "metadata": {
        "colab": {
          "base_uri": "https://localhost:8080/"
        },
        "id": "sKv3dLY6oO-8",
        "outputId": "fbe40195-8477-4c2a-e552-cc9e0905d4b2"
      },
      "source": [
        "#Hackerrank Task 6 Integers come in all sizes\n",
        "x, y, z, a = [int(input()) for _ in range(4)]\n",
        "print(x ** y + z ** a)"
      ],
      "execution_count": 9,
      "outputs": [
        {
          "output_type": "stream",
          "name": "stdout",
          "text": [
            "4\n",
            "5\n",
            "6\n",
            "7\n",
            "280960\n"
          ]
        }
      ]
    },
    {
      "cell_type": "code",
      "metadata": {
        "colab": {
          "base_uri": "https://localhost:8080/"
        },
        "id": "9FYTcvXCo7dM",
        "outputId": "c85c67be-1f8a-47de-b778-2554b10bc85e"
      },
      "source": [
        "#Hackerrank Task 6 Triangle quest\n",
        "for i in range(1, int(input())):  # More than 2 lines will result in 0 score. Do not leave a blank line also\n",
        "    print(i * ((pow(10, i) - 1) // 9))"
      ],
      "execution_count": 8,
      "outputs": [
        {
          "output_type": "stream",
          "name": "stdout",
          "text": [
            "7\n",
            "1\n",
            "22\n",
            "333\n",
            "4444\n",
            "55555\n",
            "666666\n"
          ]
        }
      ]
    }
  ]
}