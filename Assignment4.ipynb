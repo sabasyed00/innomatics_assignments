{
  "nbformat": 4,
  "nbformat_minor": 0,
  "metadata": {
    "colab": {
      "name": "Assignment4.ipynb",
      "provenance": [],
      "authorship_tag": "ABX9TyPxQkvk/VNUyOOXR43VzYv/",
      "include_colab_link": true
    },
    "kernelspec": {
      "name": "python3",
      "display_name": "Python 3"
    },
    "language_info": {
      "name": "python"
    }
  },
  "cells": [
    {
      "cell_type": "markdown",
      "metadata": {
        "id": "view-in-github",
        "colab_type": "text"
      },
      "source": [
        "<a href=\"https://colab.research.google.com/github/sabasyed00/innomatics_assignments/blob/main/Assignment4.ipynb\" target=\"_parent\"><img src=\"https://colab.research.google.com/assets/colab-badge.svg\" alt=\"Open In Colab\"/></a>"
      ]
    },
    {
      "cell_type": "markdown",
      "metadata": {
        "id": "l5QtiEwun_AM"
      },
      "source": [
        "Innomatics Assignment 4"
      ]
    },
    {
      "cell_type": "code",
      "metadata": {
        "colab": {
          "base_uri": "https://localhost:8080/"
        },
        "id": "RNc7R4LPn76i",
        "outputId": "52007dfc-4d56-4afa-9a26-75284c720848"
      },
      "source": [
        "#Hackerrank Task 1 - swapcase\n",
        "def swap_case(s):\n",
        "    return s.swapcase()\n",
        "\n",
        "if __name__ == '__main__':\n",
        "    s = input()\n",
        "    result = swap_case(s)\n",
        "    print(result)"
      ],
      "execution_count": 1,
      "outputs": [
        {
          "output_type": "stream",
          "name": "stdout",
          "text": [
            "sabazehra SABA\n",
            "SABAZEHRA saba\n"
          ]
        }
      ]
    },
    {
      "cell_type": "code",
      "metadata": {
        "colab": {
          "base_uri": "https://localhost:8080/"
        },
        "id": "ECVDuCeZokdR",
        "outputId": "370bbef9-27ff-4863-c30c-fefe3ccd6984"
      },
      "source": [
        "#Hackerrank Task 2 -string split and join\n",
        "def split_and_join(line):\n",
        " return line.replace(' ','-')\n",
        "   \n",
        "\n",
        "if __name__ == '__main__':\n",
        "    line = input()\n",
        "    result = split_and_join(line)\n",
        "    print(result)"
      ],
      "execution_count": 2,
      "outputs": [
        {
          "output_type": "stream",
          "name": "stdout",
          "text": [
            "this is a steing \n",
            "this-is-a-steing-\n"
          ]
        }
      ]
    },
    {
      "cell_type": "code",
      "metadata": {
        "colab": {
          "base_uri": "https://localhost:8080/"
        },
        "id": "m2815pU5o-W4",
        "outputId": "f1e6d0c6-c6b7-436d-b9c1-1df4763faad9"
      },
      "source": [
        "#Hackerrank Task 3 - What's your name?\n",
        "def print_full_name(first, last):\n",
        "    # Write your code here\n",
        "    print(\"Hello {} {}! You just delved into python.\".format(first ,last))\n",
        "\n",
        "\n",
        "if __name__ == '__main__':\n",
        "    first_name = input()\n",
        "    last_name = input()\n",
        "    print_full_name(first_name, last_name)"
      ],
      "execution_count": 3,
      "outputs": [
        {
          "output_type": "stream",
          "name": "stdout",
          "text": [
            "saba\n",
            "zehra\n",
            "Hello saba zehra! You just delved into python.\n"
          ]
        }
      ]
    },
    {
      "cell_type": "code",
      "metadata": {
        "colab": {
          "base_uri": "https://localhost:8080/"
        },
        "id": "ggziLgWfpV_v",
        "outputId": "b093f1e0-219c-4064-95e2-00611fef217f"
      },
      "source": [
        "#Hackerrank 4-Mutations\n",
        "def mutate_string(string, position, character):\n",
        "    return string[:position]+character + string[(position+1):]\n",
        "\n",
        "\n",
        "if __name__ == '__main__':\n",
        "    s = input()\n",
        "    i, c = input().split()\n",
        "    s_new = mutate_string(s, int(i), c)\n",
        "    print(s_new)"
      ],
      "execution_count": 8,
      "outputs": [
        {
          "output_type": "stream",
          "name": "stdout",
          "text": [
            "abracadabra \n",
            "5 k\n",
            "abrackdabra \n"
          ]
        }
      ]
    },
    {
      "cell_type": "code",
      "metadata": {
        "colab": {
          "base_uri": "https://localhost:8080/"
        },
        "id": "9N2wFgV3qKAL",
        "outputId": "0ad41ca1-d904-4018-8375-a1987ebaed3e"
      },
      "source": [
        "#Hackerrank Task 5- Find a string \n",
        "\n",
        "def count_substring(string, sub):\n",
        "    len_SubString= len(sub)\n",
        "    res = 0\n",
        "    for i in range(len(string)+1-len_SubString):\n",
        "        if string[i:i+len_SubString]==sub:\n",
        "            res+=1\n",
        "        else:\n",
        "            continue\n",
        "    \n",
        "    return res\n",
        "\n",
        "\n",
        "if __name__ == '__main__':\n",
        "    string = input().strip()\n",
        "    sub_string = input().strip()\n",
        "    \n",
        "    count = count_substring(string, sub_string)\n",
        "    print(count)"
      ],
      "execution_count": 6,
      "outputs": [
        {
          "output_type": "stream",
          "name": "stdout",
          "text": [
            "ABCDCDC\n",
            "CDC\n",
            "2\n"
          ]
        }
      ]
    },
    {
      "cell_type": "code",
      "metadata": {
        "colab": {
          "base_uri": "https://localhost:8080/"
        },
        "id": "eJORgcNCqu8w",
        "outputId": "f8455598-7076-4101-98c5-c6f221d52319"
      },
      "source": [
        "#Hackerrank Task 6 -String validators\n",
        "if __name__ == '__main__':\n",
        "    \n",
        "    a = input()\n",
        "    print(any(c.isalnum()  for c in a))\n",
        "    print(any(c.isalpha() for c in a))\n",
        "    print(any(c.isdigit() for c in a))\n",
        "    print(any(c.islower() for c in a))\n",
        "    print(any(c.isupper() for c in a))"
      ],
      "execution_count": 9,
      "outputs": [
        {
          "output_type": "stream",
          "name": "stdout",
          "text": [
            "qA2\n",
            "True\n",
            "True\n",
            "True\n",
            "True\n",
            "True\n"
          ]
        }
      ]
    },
    {
      "cell_type": "code",
      "metadata": {
        "colab": {
          "base_uri": "https://localhost:8080/"
        },
        "id": "usD0O5aKvGoW",
        "outputId": "d058265d-894f-40f8-9ea9-3602c61b7ec3"
      },
      "source": [
        "#Hackerrank Task 7 Text alignment\n",
        "#Replace all ______ with rjust, ljust or center. \n",
        "\n",
        "thickness = int(input()) #This must be an odd number\n",
        "c = 'H'\n",
        "\n",
        "#Top Cone\n",
        "for i in range(thickness):\n",
        "    print((c*i).rjust(thickness-1)+c+(c*i).ljust(thickness-1))\n",
        "\n",
        "#Top Pillars\n",
        "for i in range(thickness+1):\n",
        "    print((c*thickness).center(thickness*2)+(c*thickness).center(thickness*6))\n",
        "\n",
        "#Middle Belt\n",
        "for i in range((thickness+1)//2):\n",
        "    print((c*thickness*5).center(thickness*6))    \n",
        "\n",
        "#Bottom Pillars\n",
        "for i in range(thickness+1):\n",
        "    print((c*thickness).center(thickness*2)+(c*thickness).center(thickness*6))    \n",
        "\n",
        "#Bottom Cone\n",
        "for i in range(thickness):\n",
        "    print(((c*(thickness-i-1)).rjust(thickness)+c+(c*(thickness-i-1)).ljust(thickness)).rjust(thickness*6))"
      ],
      "execution_count": 11,
      "outputs": [
        {
          "output_type": "stream",
          "name": "stdout",
          "text": [
            "7\n",
            "      H      \n",
            "     HHH     \n",
            "    HHHHH    \n",
            "   HHHHHHH   \n",
            "  HHHHHHHHH  \n",
            " HHHHHHHHHHH \n",
            "HHHHHHHHHHHHH\n",
            "   HHHHHHH                     HHHHHHH                  \n",
            "   HHHHHHH                     HHHHHHH                  \n",
            "   HHHHHHH                     HHHHHHH                  \n",
            "   HHHHHHH                     HHHHHHH                  \n",
            "   HHHHHHH                     HHHHHHH                  \n",
            "   HHHHHHH                     HHHHHHH                  \n",
            "   HHHHHHH                     HHHHHHH                  \n",
            "   HHHHHHH                     HHHHHHH                  \n",
            "   HHHHHHHHHHHHHHHHHHHHHHHHHHHHHHHHHHH    \n",
            "   HHHHHHHHHHHHHHHHHHHHHHHHHHHHHHHHHHH    \n",
            "   HHHHHHHHHHHHHHHHHHHHHHHHHHHHHHHHHHH    \n",
            "   HHHHHHHHHHHHHHHHHHHHHHHHHHHHHHHHHHH    \n",
            "   HHHHHHH                     HHHHHHH                  \n",
            "   HHHHHHH                     HHHHHHH                  \n",
            "   HHHHHHH                     HHHHHHH                  \n",
            "   HHHHHHH                     HHHHHHH                  \n",
            "   HHHHHHH                     HHHHHHH                  \n",
            "   HHHHHHH                     HHHHHHH                  \n",
            "   HHHHHHH                     HHHHHHH                  \n",
            "   HHHHHHH                     HHHHHHH                  \n",
            "                            HHHHHHHHHHHHH \n",
            "                             HHHHHHHHHHH  \n",
            "                              HHHHHHHHH   \n",
            "                               HHHHHHH    \n",
            "                                HHHHH     \n",
            "                                 HHH      \n",
            "                                  H       \n"
          ]
        }
      ]
    },
    {
      "cell_type": "code",
      "metadata": {
        "colab": {
          "base_uri": "https://localhost:8080/"
        },
        "id": "4tSk6CwlvNa5",
        "outputId": "b4760b31-278d-4282-e5bf-d6fa85ba847c"
      },
      "source": [
        "#Hackerrank Task 8 Text wrap\n",
        "import textwrap\n",
        "\n",
        "\n",
        "\n",
        "def wrap(string, max_width):\n",
        "    s= ''\n",
        "    for i in range(0,len(string),max_width):\n",
        "        s=s + string[i:i+max_width]+\"\\n\"\n",
        "    return s\n",
        "\n",
        "if __name__ == '__main__':\n",
        "    string, max_width = input(), int(input())\n",
        "    result = wrap(string, max_width)\n",
        "    print(result)"
      ],
      "execution_count": 12,
      "outputs": [
        {
          "output_type": "stream",
          "name": "stdout",
          "text": [
            "abcdefghijklmnopqrstuvwxyz\n",
            "4\n",
            "abcd\n",
            "efgh\n",
            "ijkl\n",
            "mnop\n",
            "qrst\n",
            "uvwx\n",
            "yz\n",
            "\n"
          ]
        }
      ]
    },
    {
      "cell_type": "code",
      "metadata": {
        "colab": {
          "base_uri": "https://localhost:8080/"
        },
        "id": "Pel_iRfDwE2B",
        "outputId": "067e2fbf-76d0-4ea2-da1d-4e1f1bfb7e90"
      },
      "source": [
        "#Hackerrank Task 8 Door mat\n",
        "# Enter your code here. Read input from STDIN. Print output to STDOUT\n",
        "n, m = map(int , input(\"\").split(\" \"))\n",
        "st0 ='.|.'\n",
        "st1='-'\n",
        "avg = int((n+1)/2)\n",
        "for i in range(1,1+n):\n",
        "    if avg==i:\n",
        "        print(\"WELCOME\".center(m,st1))\n",
        "    elif i<avg:\n",
        "        print((st0*(2*i-1)).center(m,st1))\n",
        "    elif avg<i:\n",
        "        print((st0*(2*(n-i)+1)).center(m,st1))\n"
      ],
      "execution_count": 14,
      "outputs": [
        {
          "output_type": "stream",
          "name": "stdout",
          "text": [
            "5 21\n",
            "---------.|.---------\n",
            "------.|..|..|.------\n",
            "-------WELCOME-------\n",
            "------.|..|..|.------\n",
            "---------.|.---------\n"
          ]
        }
      ]
    },
    {
      "cell_type": "code",
      "metadata": {
        "colab": {
          "base_uri": "https://localhost:8080/"
        },
        "id": "E44aWxbmwphW",
        "outputId": "0473abca-5977-447f-9cf6-0cf7d4394756"
      },
      "source": [
        "#Hackerrank Task 8 String Formatting \n",
        "def print_formatted(number): \n",
        "    spacePad = len(str(bin(number))) \n",
        "    for i in range(1, number + 1): \n",
        "        floatVar = str(i) \n",
        "        octVar = str(oct(i)[2:]) \n",
        "        hexVar = str(hex(i)[2:]).upper() \n",
        "        binVar = str(bin(i)[2:]) \n",
        "        formatFloat = ((\" \" * (spacePad - len(str(floatVar)) - 2)) + floatVar) \n",
        "        formatOct = ((\" \" * (spacePad - len(str(octVar)) - 2)) + octVar) \n",
        "        formatHex = ((\" \" * (spacePad - len(str(hexVar)) - 2)) + hexVar) \n",
        "        formatBin = ((\" \" * (spacePad - len(str(binVar)) - 2)) + binVar) \n",
        "        print(formatFloat + \" \" + formatOct + \" \" + formatHex + \" \" + formatBin)\n",
        "\n",
        "if __name__ == '__main__':\n",
        "    n = int(input())\n",
        "    print_formatted(n)"
      ],
      "execution_count": 15,
      "outputs": [
        {
          "output_type": "stream",
          "name": "stdout",
          "text": [
            "2\n",
            " 1  1  1  1\n",
            " 2  2  2 10\n"
          ]
        }
      ]
    },
    {
      "cell_type": "code",
      "metadata": {
        "colab": {
          "base_uri": "https://localhost:8080/"
        },
        "id": "i6L6dfpBzsaZ",
        "outputId": "c1cfa34e-7515-4017-c739-5eb01d4426b2"
      },
      "source": [
        "#Hackerrank Task  9 -Alphabet rangoli\n",
        "def print_rangoli(size):\n",
        "    alp = 'abcdefghijklmnopqrstuvwxyz'\n",
        "    for i in range(size-1,-size,-1):\n",
        "        temp = '-'.join(alp[size-1:abs(i):-1]+alp[abs(i):size])\n",
        "        print(temp.center(4*size-3,'-'))\n",
        "if __name__ == '__main__':\n",
        "    n = int(input())\n",
        "    print_rangoli(n)"
      ],
      "execution_count": 19,
      "outputs": [
        {
          "output_type": "stream",
          "name": "stdout",
          "text": [
            "5\n",
            "--------e--------\n",
            "------e-d-e------\n",
            "----e-d-c-d-e----\n",
            "--e-d-c-b-c-d-e--\n",
            "e-d-c-b-a-b-c-d-e\n",
            "--e-d-c-b-c-d-e--\n",
            "----e-d-c-d-e----\n",
            "------e-d-e------\n",
            "--------e--------\n"
          ]
        }
      ]
    },
    {
      "cell_type": "code",
      "metadata": {
        "id": "ixkbKPPa1j8p"
      },
      "source": [
        "#Hackerrank Task 10 Capitalize\n",
        "import math\n",
        "import os\n",
        "import random\n",
        "import re\n",
        "import sys\n",
        "def solve(s):\n",
        "    return \" \".join([word.capitalize() for word in s.split(\" \")])\n",
        "    \n",
        "if __name__ == '__main__':\n",
        " fptr = open(os.environ['OUTPUT_PATH'], 'w')\n",
        "\n",
        " s = input()\n",
        "\n",
        " result = solve(s)\n",
        "\n",
        " fptr.write(result + '\\n')\n",
        "\n",
        " fptr.close()\n"
      ],
      "execution_count": null,
      "outputs": []
    }
  ]
}