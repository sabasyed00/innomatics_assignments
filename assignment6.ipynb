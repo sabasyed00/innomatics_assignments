{
  "nbformat": 4,
  "nbformat_minor": 0,
  "metadata": {
    "colab": {
      "name": "assignment6.ipynb",
      "provenance": [],
      "collapsed_sections": [],
      "authorship_tag": "ABX9TyPP9kkHogtLr3kSj/Kt6HRi",
      "include_colab_link": true
    },
    "kernelspec": {
      "name": "python3",
      "display_name": "Python 3"
    },
    "language_info": {
      "name": "python"
    }
  },
  "cells": [
    {
      "cell_type": "markdown",
      "metadata": {
        "id": "view-in-github",
        "colab_type": "text"
      },
      "source": [
        "<a href=\"https://colab.research.google.com/github/sabasyed00/innomatics_assignments/blob/main/assignment6.ipynb\" target=\"_parent\"><img src=\"https://colab.research.google.com/assets/colab-badge.svg\" alt=\"Open In Colab\"/></a>"
      ]
    },
    {
      "cell_type": "markdown",
      "metadata": {
        "id": "GX8PLJ29_Nb7"
      },
      "source": [
        "#Hackerrank assignment 6 -Numpy"
      ]
    },
    {
      "cell_type": "code",
      "metadata": {
        "id": "cAVG-yox_CyN"
      },
      "source": [
        "#Hackerrank Task 1\n",
        "import numpy\n",
        "\n",
        "def arrays(arr):\n",
        "    # complete this function\n",
        "\n",
        "    # use numpy.array\n",
        "    return numpy.array(arr, float)[::-1]\n",
        "arr = input().strip().split(' ')\n",
        "result = arrays(arr)\n",
        "print(result)"
      ],
      "execution_count": null,
      "outputs": []
    },
    {
      "cell_type": "code",
      "metadata": {
        "id": "rNkGc1dO_Z11"
      },
      "source": [
        "#Hackerrank Task 2\n",
        "import numpy as np\n",
        "print(np.array(input().split(),int).reshape(3,3))"
      ],
      "execution_count": null,
      "outputs": []
    },
    {
      "cell_type": "code",
      "metadata": {
        "id": "BlzaVHmSAHxo"
      },
      "source": [
        "#Hackerrank Task 3\n",
        "import numpy\n",
        "\n",
        "a, b= map(int, input().split())\n",
        "array = numpy.array([input().strip().split() for _ in range(a)], int)\n",
        "print (array.transpose())\n",
        "print (array.flatten())\n",
        "\n",
        "\n"
      ],
      "execution_count": null,
      "outputs": []
    },
    {
      "cell_type": "code",
      "metadata": {
        "id": "zqXCkqJ5CrAQ"
      },
      "source": [
        "#Hackerrank Task 4\n",
        "\n",
        "import numpy as np\n",
        "a, b, c = map(int,input().split())\n",
        "arrayA = np.array([input().split() for _ in range(a)],int)\n",
        "arrayB = np.array([input().split() for _ in range(b)],int)\n",
        "print(np.concatenate((arrayA, arrayB), axis = 0))\n",
        "\n",
        "\n"
      ],
      "execution_count": null,
      "outputs": []
    },
    {
      "cell_type": "code",
      "metadata": {
        "id": "ROAviI4-DML8"
      },
      "source": [
        "#Hackerrank Task5\n",
        "import numpy as np\n",
        "num = tuple(map(int, input().split()))\n",
        "print (np.zeros(num, dtype = np.int))\n",
        "print (np.ones(num, dtype = np.int))\n",
        "\n",
        "\n"
      ],
      "execution_count": null,
      "outputs": []
    },
    {
      "cell_type": "code",
      "metadata": {
        "id": "CAw_pZtgD7Q0"
      },
      "source": [
        "#Hackerrank Task 6\n",
        "import numpy  as np\n",
        "print(str(np.eye(*map(int,input().split()))).replace('1',' 1').replace('0',' 0'))\n",
        "\n",
        "\n",
        "\n"
      ],
      "execution_count": null,
      "outputs": []
    },
    {
      "cell_type": "code",
      "metadata": {
        "id": "2FX8nxAdEdv-"
      },
      "source": [
        "#Hackerrank Task 7\n",
        "\n",
        "import numpy as np\n",
        "n, m = map(int, input().split())\n",
        "a, b = (np.array([input().split() for _ in range(n)], dtype=int) for _ in range(2))\n",
        "print(a+b, a-b, a*b, a//b, a%b, a**b, sep='\\n')\n",
        "\n",
        "\n"
      ],
      "execution_count": null,
      "outputs": []
    },
    {
      "cell_type": "code",
      "metadata": {
        "id": "7wt5UL8IE0RA"
      },
      "source": [
        "#Hackerrank Task 8\n",
        "import numpy as np\n",
        "\n",
        "np.set_printoptions(sign=' ')\n",
        "\n",
        "\n",
        "a = np.array(input().split(),float)\n",
        "\n",
        "print(np.floor(a))\n",
        "print(np.ceil(a))\n",
        "print(np.rint(a))\n",
        "\n",
        "\n",
        "\n"
      ],
      "execution_count": null,
      "outputs": []
    },
    {
      "cell_type": "code",
      "metadata": {
        "id": "MHFW9AqFFVIO"
      },
      "source": [
        "#Hackerrank Task 9\n",
        "import numpy as np\n",
        "N, M = map(int, input().split())\n",
        "A = np.array([input().split() for _ in range(N)],int)\n",
        "print(np.prod(np.sum(A, axis=0), axis=0))\n",
        "\n",
        "\n",
        "\n"
      ],
      "execution_count": null,
      "outputs": []
    },
    {
      "cell_type": "code",
      "metadata": {
        "id": "M93GXqzmFtUW"
      },
      "source": [
        "#Hackerrank Task 10 \n",
        "import numpy as np\n",
        "\n",
        "a,b=map(int,input().split())\n",
        "\n",
        "listA=[list(map(int,input().split())) for i in range(a)]\n",
        "\n",
        "array=np.array(listA)\n",
        "\n",
        "print(max(np.min(array,axis=1)))\n",
        "\n",
        "\n",
        "\n"
      ],
      "execution_count": null,
      "outputs": []
    },
    {
      "cell_type": "code",
      "metadata": {
        "id": "0G-BkPIkGjEN"
      },
      "source": [
        "# Hackerrank Task 11\n",
        "import numpy as np\n",
        "n = np.array([input().split() for _ in range(int(input().split()[0]))],int)\n",
        "print(np.mean(n,axis=1),np.var(n,axis=0),np.std(n),sep=\"\\n\")"
      ],
      "execution_count": null,
      "outputs": []
    },
    {
      "cell_type": "code",
      "metadata": {
        "id": "SZ5OflCZH24q"
      },
      "source": [
        "#Hackerrank Task 12\n",
        "import numpy as np\n",
        "n=int(input())\n",
        "a = np.array([input().split() for _ in range(n)],int)\n",
        "b = np.array([input().split() for _ in range(n)],int)\n",
        "m = np.dot(a,b)\n",
        "print (m)"
      ],
      "execution_count": null,
      "outputs": []
    },
    {
      "cell_type": "code",
      "metadata": {
        "id": "JFzCma-rKuKz"
      },
      "source": [
        "#Hackerrank Task 13\n",
        "import numpy as np\n",
        "A = np.array(input().split(), int)\n",
        "B = np.array(input().split(), int)\n",
        "print(np.inner(A,B), np.outer(A,B), sep='\\n')"
      ],
      "execution_count": null,
      "outputs": []
    },
    {
      "cell_type": "code",
      "metadata": {
        "id": "UzfFmqRfLIgX"
      },
      "source": [
        "#Hackerrank Task 14\n",
        "import numpy as np\n",
        "a = list(map(float,input().split()));\n",
        "b = input();\n",
        "print(np.polyval(a,int(b)));"
      ],
      "execution_count": null,
      "outputs": []
    },
    {
      "cell_type": "code",
      "metadata": {
        "id": "2TtGODI2E0bK"
      },
      "source": [
        ""
      ],
      "execution_count": null,
      "outputs": []
    }
  ]
}