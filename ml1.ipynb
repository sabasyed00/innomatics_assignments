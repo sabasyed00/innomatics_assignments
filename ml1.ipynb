{
  "nbformat": 4,
  "nbformat_minor": 0,
  "metadata": {
    "colab": {
      "name": "ml1.ipynb",
      "provenance": [],
      "authorship_tag": "ABX9TyMJ9AX40BA8gdKRwjQtM66B",
      "include_colab_link": true
    },
    "kernelspec": {
      "name": "python3",
      "display_name": "Python 3"
    },
    "language_info": {
      "name": "python"
    }
  },
  "cells": [
    {
      "cell_type": "markdown",
      "metadata": {
        "id": "view-in-github",
        "colab_type": "text"
      },
      "source": [
        "<a href=\"https://colab.research.google.com/github/sabasyed00/innomatics_assignments/blob/main/ml1.ipynb\" target=\"_parent\"><img src=\"https://colab.research.google.com/assets/colab-badge.svg\" alt=\"Open In Colab\"/></a>"
      ]
    },
    {
      "cell_type": "markdown",
      "metadata": {
        "id": "cAyFrzVRadL0"
      },
      "source": [
        "Importing Libraries"
      ]
    },
    {
      "cell_type": "code",
      "metadata": {
        "id": "3e84L-jDZrQm"
      },
      "source": [
        "import pandas as pd\n",
        "import numpy as np\n",
        "import seaborn as sns\n",
        "import matplotlib.pyplot as plt\n",
        "import warnings\n",
        "warnings.filterwarnings('ignore')\n",
        "from scipy.stats import pearsonr"
      ],
      "execution_count": 59,
      "outputs": []
    },
    {
      "cell_type": "markdown",
      "metadata": {
        "id": "v1nj3ED2anAE"
      },
      "source": [
        "importing data set"
      ]
    },
    {
      "cell_type": "code",
      "metadata": {
        "id": "WX-WTgNKagbe"
      },
      "source": [
        "data = pd.read_csv('diamonds.csv')\n"
      ],
      "execution_count": 2,
      "outputs": []
    },
    {
      "cell_type": "markdown",
      "metadata": {
        "id": "5iaCD2Ucfgir"
      },
      "source": [
        "displaying first few rows\n"
      ]
    },
    {
      "cell_type": "code",
      "metadata": {
        "colab": {
          "base_uri": "https://localhost:8080/",
          "height": 989
        },
        "id": "a0n6_FAifo0q",
        "outputId": "b69b2f4f-4c4d-453c-d3a0-b5ecc96f5287"
      },
      "source": [
        "data.head(30)"
      ],
      "execution_count": 3,
      "outputs": [
        {
          "output_type": "execute_result",
          "data": {
            "text/html": [
              "<div>\n",
              "<style scoped>\n",
              "    .dataframe tbody tr th:only-of-type {\n",
              "        vertical-align: middle;\n",
              "    }\n",
              "\n",
              "    .dataframe tbody tr th {\n",
              "        vertical-align: top;\n",
              "    }\n",
              "\n",
              "    .dataframe thead th {\n",
              "        text-align: right;\n",
              "    }\n",
              "</style>\n",
              "<table border=\"1\" class=\"dataframe\">\n",
              "  <thead>\n",
              "    <tr style=\"text-align: right;\">\n",
              "      <th></th>\n",
              "      <th>carat</th>\n",
              "      <th>cut</th>\n",
              "      <th>color</th>\n",
              "      <th>clarity</th>\n",
              "      <th>depth</th>\n",
              "      <th>table</th>\n",
              "      <th>price</th>\n",
              "      <th>x</th>\n",
              "      <th>y</th>\n",
              "      <th>z</th>\n",
              "    </tr>\n",
              "  </thead>\n",
              "  <tbody>\n",
              "    <tr>\n",
              "      <th>0</th>\n",
              "      <td>0.23</td>\n",
              "      <td>Ideal</td>\n",
              "      <td>E</td>\n",
              "      <td>SI2</td>\n",
              "      <td>61.5</td>\n",
              "      <td>55.0</td>\n",
              "      <td>326</td>\n",
              "      <td>3.95</td>\n",
              "      <td>3.98</td>\n",
              "      <td>2.43</td>\n",
              "    </tr>\n",
              "    <tr>\n",
              "      <th>1</th>\n",
              "      <td>0.21</td>\n",
              "      <td>Premium</td>\n",
              "      <td>E</td>\n",
              "      <td>SI1</td>\n",
              "      <td>59.8</td>\n",
              "      <td>61.0</td>\n",
              "      <td>326</td>\n",
              "      <td>3.89</td>\n",
              "      <td>3.84</td>\n",
              "      <td>2.31</td>\n",
              "    </tr>\n",
              "    <tr>\n",
              "      <th>2</th>\n",
              "      <td>0.23</td>\n",
              "      <td>Good</td>\n",
              "      <td>E</td>\n",
              "      <td>VS1</td>\n",
              "      <td>56.9</td>\n",
              "      <td>65.0</td>\n",
              "      <td>327</td>\n",
              "      <td>4.05</td>\n",
              "      <td>4.07</td>\n",
              "      <td>2.31</td>\n",
              "    </tr>\n",
              "    <tr>\n",
              "      <th>3</th>\n",
              "      <td>0.29</td>\n",
              "      <td>Premium</td>\n",
              "      <td>I</td>\n",
              "      <td>VS2</td>\n",
              "      <td>62.4</td>\n",
              "      <td>58.0</td>\n",
              "      <td>334</td>\n",
              "      <td>4.20</td>\n",
              "      <td>4.23</td>\n",
              "      <td>2.63</td>\n",
              "    </tr>\n",
              "    <tr>\n",
              "      <th>4</th>\n",
              "      <td>0.31</td>\n",
              "      <td>Good</td>\n",
              "      <td>J</td>\n",
              "      <td>SI2</td>\n",
              "      <td>63.3</td>\n",
              "      <td>58.0</td>\n",
              "      <td>335</td>\n",
              "      <td>4.34</td>\n",
              "      <td>4.35</td>\n",
              "      <td>2.75</td>\n",
              "    </tr>\n",
              "    <tr>\n",
              "      <th>5</th>\n",
              "      <td>0.24</td>\n",
              "      <td>Very Good</td>\n",
              "      <td>J</td>\n",
              "      <td>VVS2</td>\n",
              "      <td>62.8</td>\n",
              "      <td>57.0</td>\n",
              "      <td>336</td>\n",
              "      <td>3.94</td>\n",
              "      <td>3.96</td>\n",
              "      <td>2.48</td>\n",
              "    </tr>\n",
              "    <tr>\n",
              "      <th>6</th>\n",
              "      <td>0.24</td>\n",
              "      <td>Very Good</td>\n",
              "      <td>I</td>\n",
              "      <td>VVS1</td>\n",
              "      <td>62.3</td>\n",
              "      <td>57.0</td>\n",
              "      <td>336</td>\n",
              "      <td>3.95</td>\n",
              "      <td>3.98</td>\n",
              "      <td>2.47</td>\n",
              "    </tr>\n",
              "    <tr>\n",
              "      <th>7</th>\n",
              "      <td>0.26</td>\n",
              "      <td>Very Good</td>\n",
              "      <td>H</td>\n",
              "      <td>SI1</td>\n",
              "      <td>61.9</td>\n",
              "      <td>55.0</td>\n",
              "      <td>337</td>\n",
              "      <td>4.07</td>\n",
              "      <td>4.11</td>\n",
              "      <td>2.53</td>\n",
              "    </tr>\n",
              "    <tr>\n",
              "      <th>8</th>\n",
              "      <td>0.22</td>\n",
              "      <td>Fair</td>\n",
              "      <td>E</td>\n",
              "      <td>VS2</td>\n",
              "      <td>65.1</td>\n",
              "      <td>61.0</td>\n",
              "      <td>337</td>\n",
              "      <td>3.87</td>\n",
              "      <td>3.78</td>\n",
              "      <td>2.49</td>\n",
              "    </tr>\n",
              "    <tr>\n",
              "      <th>9</th>\n",
              "      <td>0.23</td>\n",
              "      <td>Very Good</td>\n",
              "      <td>H</td>\n",
              "      <td>VS1</td>\n",
              "      <td>59.4</td>\n",
              "      <td>61.0</td>\n",
              "      <td>338</td>\n",
              "      <td>4.00</td>\n",
              "      <td>4.05</td>\n",
              "      <td>2.39</td>\n",
              "    </tr>\n",
              "    <tr>\n",
              "      <th>10</th>\n",
              "      <td>0.30</td>\n",
              "      <td>Good</td>\n",
              "      <td>J</td>\n",
              "      <td>SI1</td>\n",
              "      <td>64.0</td>\n",
              "      <td>55.0</td>\n",
              "      <td>339</td>\n",
              "      <td>4.25</td>\n",
              "      <td>4.28</td>\n",
              "      <td>2.73</td>\n",
              "    </tr>\n",
              "    <tr>\n",
              "      <th>11</th>\n",
              "      <td>0.23</td>\n",
              "      <td>Ideal</td>\n",
              "      <td>J</td>\n",
              "      <td>VS1</td>\n",
              "      <td>62.8</td>\n",
              "      <td>56.0</td>\n",
              "      <td>340</td>\n",
              "      <td>3.93</td>\n",
              "      <td>3.90</td>\n",
              "      <td>2.46</td>\n",
              "    </tr>\n",
              "    <tr>\n",
              "      <th>12</th>\n",
              "      <td>0.22</td>\n",
              "      <td>Premium</td>\n",
              "      <td>F</td>\n",
              "      <td>SI1</td>\n",
              "      <td>60.4</td>\n",
              "      <td>61.0</td>\n",
              "      <td>342</td>\n",
              "      <td>3.88</td>\n",
              "      <td>3.84</td>\n",
              "      <td>2.33</td>\n",
              "    </tr>\n",
              "    <tr>\n",
              "      <th>13</th>\n",
              "      <td>0.31</td>\n",
              "      <td>Ideal</td>\n",
              "      <td>J</td>\n",
              "      <td>SI2</td>\n",
              "      <td>62.2</td>\n",
              "      <td>54.0</td>\n",
              "      <td>344</td>\n",
              "      <td>4.35</td>\n",
              "      <td>4.37</td>\n",
              "      <td>2.71</td>\n",
              "    </tr>\n",
              "    <tr>\n",
              "      <th>14</th>\n",
              "      <td>0.20</td>\n",
              "      <td>Premium</td>\n",
              "      <td>E</td>\n",
              "      <td>SI2</td>\n",
              "      <td>60.2</td>\n",
              "      <td>62.0</td>\n",
              "      <td>345</td>\n",
              "      <td>3.79</td>\n",
              "      <td>3.75</td>\n",
              "      <td>2.27</td>\n",
              "    </tr>\n",
              "    <tr>\n",
              "      <th>15</th>\n",
              "      <td>0.32</td>\n",
              "      <td>Premium</td>\n",
              "      <td>E</td>\n",
              "      <td>I1</td>\n",
              "      <td>60.9</td>\n",
              "      <td>58.0</td>\n",
              "      <td>345</td>\n",
              "      <td>4.38</td>\n",
              "      <td>4.42</td>\n",
              "      <td>2.68</td>\n",
              "    </tr>\n",
              "    <tr>\n",
              "      <th>16</th>\n",
              "      <td>0.30</td>\n",
              "      <td>Ideal</td>\n",
              "      <td>I</td>\n",
              "      <td>SI2</td>\n",
              "      <td>62.0</td>\n",
              "      <td>54.0</td>\n",
              "      <td>348</td>\n",
              "      <td>4.31</td>\n",
              "      <td>4.34</td>\n",
              "      <td>2.68</td>\n",
              "    </tr>\n",
              "    <tr>\n",
              "      <th>17</th>\n",
              "      <td>0.30</td>\n",
              "      <td>Good</td>\n",
              "      <td>J</td>\n",
              "      <td>SI1</td>\n",
              "      <td>63.4</td>\n",
              "      <td>54.0</td>\n",
              "      <td>351</td>\n",
              "      <td>4.23</td>\n",
              "      <td>4.29</td>\n",
              "      <td>2.70</td>\n",
              "    </tr>\n",
              "    <tr>\n",
              "      <th>18</th>\n",
              "      <td>0.30</td>\n",
              "      <td>Good</td>\n",
              "      <td>J</td>\n",
              "      <td>SI1</td>\n",
              "      <td>63.8</td>\n",
              "      <td>56.0</td>\n",
              "      <td>351</td>\n",
              "      <td>4.23</td>\n",
              "      <td>4.26</td>\n",
              "      <td>2.71</td>\n",
              "    </tr>\n",
              "    <tr>\n",
              "      <th>19</th>\n",
              "      <td>0.30</td>\n",
              "      <td>Very Good</td>\n",
              "      <td>J</td>\n",
              "      <td>SI1</td>\n",
              "      <td>62.7</td>\n",
              "      <td>59.0</td>\n",
              "      <td>351</td>\n",
              "      <td>4.21</td>\n",
              "      <td>4.27</td>\n",
              "      <td>2.66</td>\n",
              "    </tr>\n",
              "    <tr>\n",
              "      <th>20</th>\n",
              "      <td>0.30</td>\n",
              "      <td>Good</td>\n",
              "      <td>I</td>\n",
              "      <td>SI2</td>\n",
              "      <td>63.3</td>\n",
              "      <td>56.0</td>\n",
              "      <td>351</td>\n",
              "      <td>4.26</td>\n",
              "      <td>4.30</td>\n",
              "      <td>2.71</td>\n",
              "    </tr>\n",
              "    <tr>\n",
              "      <th>21</th>\n",
              "      <td>0.23</td>\n",
              "      <td>Very Good</td>\n",
              "      <td>E</td>\n",
              "      <td>VS2</td>\n",
              "      <td>63.8</td>\n",
              "      <td>55.0</td>\n",
              "      <td>352</td>\n",
              "      <td>3.85</td>\n",
              "      <td>3.92</td>\n",
              "      <td>2.48</td>\n",
              "    </tr>\n",
              "    <tr>\n",
              "      <th>22</th>\n",
              "      <td>0.23</td>\n",
              "      <td>Very Good</td>\n",
              "      <td>H</td>\n",
              "      <td>VS1</td>\n",
              "      <td>61.0</td>\n",
              "      <td>57.0</td>\n",
              "      <td>353</td>\n",
              "      <td>3.94</td>\n",
              "      <td>3.96</td>\n",
              "      <td>2.41</td>\n",
              "    </tr>\n",
              "    <tr>\n",
              "      <th>23</th>\n",
              "      <td>0.31</td>\n",
              "      <td>Very Good</td>\n",
              "      <td>J</td>\n",
              "      <td>SI1</td>\n",
              "      <td>59.4</td>\n",
              "      <td>62.0</td>\n",
              "      <td>353</td>\n",
              "      <td>4.39</td>\n",
              "      <td>4.43</td>\n",
              "      <td>2.62</td>\n",
              "    </tr>\n",
              "    <tr>\n",
              "      <th>24</th>\n",
              "      <td>0.31</td>\n",
              "      <td>Very Good</td>\n",
              "      <td>J</td>\n",
              "      <td>SI1</td>\n",
              "      <td>58.1</td>\n",
              "      <td>62.0</td>\n",
              "      <td>353</td>\n",
              "      <td>4.44</td>\n",
              "      <td>4.47</td>\n",
              "      <td>2.59</td>\n",
              "    </tr>\n",
              "    <tr>\n",
              "      <th>25</th>\n",
              "      <td>0.23</td>\n",
              "      <td>Very Good</td>\n",
              "      <td>G</td>\n",
              "      <td>VVS2</td>\n",
              "      <td>60.4</td>\n",
              "      <td>58.0</td>\n",
              "      <td>354</td>\n",
              "      <td>3.97</td>\n",
              "      <td>4.01</td>\n",
              "      <td>2.41</td>\n",
              "    </tr>\n",
              "    <tr>\n",
              "      <th>26</th>\n",
              "      <td>0.24</td>\n",
              "      <td>Premium</td>\n",
              "      <td>I</td>\n",
              "      <td>VS1</td>\n",
              "      <td>62.5</td>\n",
              "      <td>57.0</td>\n",
              "      <td>355</td>\n",
              "      <td>3.97</td>\n",
              "      <td>3.94</td>\n",
              "      <td>2.47</td>\n",
              "    </tr>\n",
              "    <tr>\n",
              "      <th>27</th>\n",
              "      <td>0.30</td>\n",
              "      <td>Very Good</td>\n",
              "      <td>J</td>\n",
              "      <td>VS2</td>\n",
              "      <td>62.2</td>\n",
              "      <td>57.0</td>\n",
              "      <td>357</td>\n",
              "      <td>4.28</td>\n",
              "      <td>4.30</td>\n",
              "      <td>2.67</td>\n",
              "    </tr>\n",
              "    <tr>\n",
              "      <th>28</th>\n",
              "      <td>0.23</td>\n",
              "      <td>Very Good</td>\n",
              "      <td>D</td>\n",
              "      <td>VS2</td>\n",
              "      <td>60.5</td>\n",
              "      <td>61.0</td>\n",
              "      <td>357</td>\n",
              "      <td>3.96</td>\n",
              "      <td>3.97</td>\n",
              "      <td>2.40</td>\n",
              "    </tr>\n",
              "    <tr>\n",
              "      <th>29</th>\n",
              "      <td>0.23</td>\n",
              "      <td>Very Good</td>\n",
              "      <td>F</td>\n",
              "      <td>VS1</td>\n",
              "      <td>60.9</td>\n",
              "      <td>57.0</td>\n",
              "      <td>357</td>\n",
              "      <td>3.96</td>\n",
              "      <td>3.99</td>\n",
              "      <td>2.42</td>\n",
              "    </tr>\n",
              "  </tbody>\n",
              "</table>\n",
              "</div>"
            ],
            "text/plain": [
              "    carat        cut color clarity  depth  table  price     x     y     z\n",
              "0    0.23      Ideal     E     SI2   61.5   55.0    326  3.95  3.98  2.43\n",
              "1    0.21    Premium     E     SI1   59.8   61.0    326  3.89  3.84  2.31\n",
              "2    0.23       Good     E     VS1   56.9   65.0    327  4.05  4.07  2.31\n",
              "3    0.29    Premium     I     VS2   62.4   58.0    334  4.20  4.23  2.63\n",
              "4    0.31       Good     J     SI2   63.3   58.0    335  4.34  4.35  2.75\n",
              "5    0.24  Very Good     J    VVS2   62.8   57.0    336  3.94  3.96  2.48\n",
              "6    0.24  Very Good     I    VVS1   62.3   57.0    336  3.95  3.98  2.47\n",
              "7    0.26  Very Good     H     SI1   61.9   55.0    337  4.07  4.11  2.53\n",
              "8    0.22       Fair     E     VS2   65.1   61.0    337  3.87  3.78  2.49\n",
              "9    0.23  Very Good     H     VS1   59.4   61.0    338  4.00  4.05  2.39\n",
              "10   0.30       Good     J     SI1   64.0   55.0    339  4.25  4.28  2.73\n",
              "11   0.23      Ideal     J     VS1   62.8   56.0    340  3.93  3.90  2.46\n",
              "12   0.22    Premium     F     SI1   60.4   61.0    342  3.88  3.84  2.33\n",
              "13   0.31      Ideal     J     SI2   62.2   54.0    344  4.35  4.37  2.71\n",
              "14   0.20    Premium     E     SI2   60.2   62.0    345  3.79  3.75  2.27\n",
              "15   0.32    Premium     E      I1   60.9   58.0    345  4.38  4.42  2.68\n",
              "16   0.30      Ideal     I     SI2   62.0   54.0    348  4.31  4.34  2.68\n",
              "17   0.30       Good     J     SI1   63.4   54.0    351  4.23  4.29  2.70\n",
              "18   0.30       Good     J     SI1   63.8   56.0    351  4.23  4.26  2.71\n",
              "19   0.30  Very Good     J     SI1   62.7   59.0    351  4.21  4.27  2.66\n",
              "20   0.30       Good     I     SI2   63.3   56.0    351  4.26  4.30  2.71\n",
              "21   0.23  Very Good     E     VS2   63.8   55.0    352  3.85  3.92  2.48\n",
              "22   0.23  Very Good     H     VS1   61.0   57.0    353  3.94  3.96  2.41\n",
              "23   0.31  Very Good     J     SI1   59.4   62.0    353  4.39  4.43  2.62\n",
              "24   0.31  Very Good     J     SI1   58.1   62.0    353  4.44  4.47  2.59\n",
              "25   0.23  Very Good     G    VVS2   60.4   58.0    354  3.97  4.01  2.41\n",
              "26   0.24    Premium     I     VS1   62.5   57.0    355  3.97  3.94  2.47\n",
              "27   0.30  Very Good     J     VS2   62.2   57.0    357  4.28  4.30  2.67\n",
              "28   0.23  Very Good     D     VS2   60.5   61.0    357  3.96  3.97  2.40\n",
              "29   0.23  Very Good     F     VS1   60.9   57.0    357  3.96  3.99  2.42"
            ]
          },
          "metadata": {},
          "execution_count": 3
        }
      ]
    },
    {
      "cell_type": "code",
      "metadata": {
        "colab": {
          "base_uri": "https://localhost:8080/",
          "height": 989
        },
        "id": "BaD3Y_rOgBRB",
        "outputId": "7b046838-9715-4eeb-8e4b-01fced2a04ac"
      },
      "source": [
        "data.tail(30) #displaying the last few rows"
      ],
      "execution_count": 4,
      "outputs": [
        {
          "output_type": "execute_result",
          "data": {
            "text/html": [
              "<div>\n",
              "<style scoped>\n",
              "    .dataframe tbody tr th:only-of-type {\n",
              "        vertical-align: middle;\n",
              "    }\n",
              "\n",
              "    .dataframe tbody tr th {\n",
              "        vertical-align: top;\n",
              "    }\n",
              "\n",
              "    .dataframe thead th {\n",
              "        text-align: right;\n",
              "    }\n",
              "</style>\n",
              "<table border=\"1\" class=\"dataframe\">\n",
              "  <thead>\n",
              "    <tr style=\"text-align: right;\">\n",
              "      <th></th>\n",
              "      <th>carat</th>\n",
              "      <th>cut</th>\n",
              "      <th>color</th>\n",
              "      <th>clarity</th>\n",
              "      <th>depth</th>\n",
              "      <th>table</th>\n",
              "      <th>price</th>\n",
              "      <th>x</th>\n",
              "      <th>y</th>\n",
              "      <th>z</th>\n",
              "    </tr>\n",
              "  </thead>\n",
              "  <tbody>\n",
              "    <tr>\n",
              "      <th>53910</th>\n",
              "      <td>0.70</td>\n",
              "      <td>Premium</td>\n",
              "      <td>E</td>\n",
              "      <td>SI1</td>\n",
              "      <td>60.5</td>\n",
              "      <td>58.0</td>\n",
              "      <td>2753</td>\n",
              "      <td>5.74</td>\n",
              "      <td>5.77</td>\n",
              "      <td>3.48</td>\n",
              "    </tr>\n",
              "    <tr>\n",
              "      <th>53911</th>\n",
              "      <td>0.57</td>\n",
              "      <td>Premium</td>\n",
              "      <td>E</td>\n",
              "      <td>IF</td>\n",
              "      <td>59.8</td>\n",
              "      <td>60.0</td>\n",
              "      <td>2753</td>\n",
              "      <td>5.43</td>\n",
              "      <td>5.38</td>\n",
              "      <td>3.23</td>\n",
              "    </tr>\n",
              "    <tr>\n",
              "      <th>53912</th>\n",
              "      <td>0.61</td>\n",
              "      <td>Premium</td>\n",
              "      <td>F</td>\n",
              "      <td>VVS1</td>\n",
              "      <td>61.8</td>\n",
              "      <td>59.0</td>\n",
              "      <td>2753</td>\n",
              "      <td>5.48</td>\n",
              "      <td>5.40</td>\n",
              "      <td>3.36</td>\n",
              "    </tr>\n",
              "    <tr>\n",
              "      <th>53913</th>\n",
              "      <td>0.80</td>\n",
              "      <td>Good</td>\n",
              "      <td>G</td>\n",
              "      <td>VS2</td>\n",
              "      <td>64.2</td>\n",
              "      <td>58.0</td>\n",
              "      <td>2753</td>\n",
              "      <td>5.84</td>\n",
              "      <td>5.81</td>\n",
              "      <td>3.74</td>\n",
              "    </tr>\n",
              "    <tr>\n",
              "      <th>53914</th>\n",
              "      <td>0.84</td>\n",
              "      <td>Good</td>\n",
              "      <td>I</td>\n",
              "      <td>VS1</td>\n",
              "      <td>63.7</td>\n",
              "      <td>59.0</td>\n",
              "      <td>2753</td>\n",
              "      <td>5.94</td>\n",
              "      <td>5.90</td>\n",
              "      <td>3.77</td>\n",
              "    </tr>\n",
              "    <tr>\n",
              "      <th>53915</th>\n",
              "      <td>0.77</td>\n",
              "      <td>Ideal</td>\n",
              "      <td>E</td>\n",
              "      <td>SI2</td>\n",
              "      <td>62.1</td>\n",
              "      <td>56.0</td>\n",
              "      <td>2753</td>\n",
              "      <td>5.84</td>\n",
              "      <td>5.86</td>\n",
              "      <td>3.63</td>\n",
              "    </tr>\n",
              "    <tr>\n",
              "      <th>53916</th>\n",
              "      <td>0.74</td>\n",
              "      <td>Good</td>\n",
              "      <td>D</td>\n",
              "      <td>SI1</td>\n",
              "      <td>63.1</td>\n",
              "      <td>59.0</td>\n",
              "      <td>2753</td>\n",
              "      <td>5.71</td>\n",
              "      <td>5.74</td>\n",
              "      <td>3.61</td>\n",
              "    </tr>\n",
              "    <tr>\n",
              "      <th>53917</th>\n",
              "      <td>0.90</td>\n",
              "      <td>Very Good</td>\n",
              "      <td>J</td>\n",
              "      <td>SI1</td>\n",
              "      <td>63.2</td>\n",
              "      <td>60.0</td>\n",
              "      <td>2753</td>\n",
              "      <td>6.12</td>\n",
              "      <td>6.09</td>\n",
              "      <td>3.86</td>\n",
              "    </tr>\n",
              "    <tr>\n",
              "      <th>53918</th>\n",
              "      <td>0.76</td>\n",
              "      <td>Premium</td>\n",
              "      <td>I</td>\n",
              "      <td>VS1</td>\n",
              "      <td>59.3</td>\n",
              "      <td>62.0</td>\n",
              "      <td>2753</td>\n",
              "      <td>5.93</td>\n",
              "      <td>5.85</td>\n",
              "      <td>3.49</td>\n",
              "    </tr>\n",
              "    <tr>\n",
              "      <th>53919</th>\n",
              "      <td>0.76</td>\n",
              "      <td>Ideal</td>\n",
              "      <td>I</td>\n",
              "      <td>VVS1</td>\n",
              "      <td>62.2</td>\n",
              "      <td>55.0</td>\n",
              "      <td>2753</td>\n",
              "      <td>5.89</td>\n",
              "      <td>5.87</td>\n",
              "      <td>3.66</td>\n",
              "    </tr>\n",
              "    <tr>\n",
              "      <th>53920</th>\n",
              "      <td>0.70</td>\n",
              "      <td>Very Good</td>\n",
              "      <td>E</td>\n",
              "      <td>VS2</td>\n",
              "      <td>62.4</td>\n",
              "      <td>60.0</td>\n",
              "      <td>2755</td>\n",
              "      <td>5.57</td>\n",
              "      <td>5.61</td>\n",
              "      <td>3.49</td>\n",
              "    </tr>\n",
              "    <tr>\n",
              "      <th>53921</th>\n",
              "      <td>0.70</td>\n",
              "      <td>Very Good</td>\n",
              "      <td>E</td>\n",
              "      <td>VS2</td>\n",
              "      <td>62.8</td>\n",
              "      <td>60.0</td>\n",
              "      <td>2755</td>\n",
              "      <td>5.59</td>\n",
              "      <td>5.65</td>\n",
              "      <td>3.53</td>\n",
              "    </tr>\n",
              "    <tr>\n",
              "      <th>53922</th>\n",
              "      <td>0.70</td>\n",
              "      <td>Very Good</td>\n",
              "      <td>D</td>\n",
              "      <td>VS1</td>\n",
              "      <td>63.1</td>\n",
              "      <td>59.0</td>\n",
              "      <td>2755</td>\n",
              "      <td>5.67</td>\n",
              "      <td>5.58</td>\n",
              "      <td>3.55</td>\n",
              "    </tr>\n",
              "    <tr>\n",
              "      <th>53923</th>\n",
              "      <td>0.73</td>\n",
              "      <td>Ideal</td>\n",
              "      <td>I</td>\n",
              "      <td>VS2</td>\n",
              "      <td>61.3</td>\n",
              "      <td>56.0</td>\n",
              "      <td>2756</td>\n",
              "      <td>5.80</td>\n",
              "      <td>5.84</td>\n",
              "      <td>3.57</td>\n",
              "    </tr>\n",
              "    <tr>\n",
              "      <th>53924</th>\n",
              "      <td>0.73</td>\n",
              "      <td>Ideal</td>\n",
              "      <td>I</td>\n",
              "      <td>VS2</td>\n",
              "      <td>61.6</td>\n",
              "      <td>55.0</td>\n",
              "      <td>2756</td>\n",
              "      <td>5.82</td>\n",
              "      <td>5.84</td>\n",
              "      <td>3.59</td>\n",
              "    </tr>\n",
              "    <tr>\n",
              "      <th>53925</th>\n",
              "      <td>0.79</td>\n",
              "      <td>Ideal</td>\n",
              "      <td>I</td>\n",
              "      <td>SI1</td>\n",
              "      <td>61.6</td>\n",
              "      <td>56.0</td>\n",
              "      <td>2756</td>\n",
              "      <td>5.95</td>\n",
              "      <td>5.97</td>\n",
              "      <td>3.67</td>\n",
              "    </tr>\n",
              "    <tr>\n",
              "      <th>53926</th>\n",
              "      <td>0.71</td>\n",
              "      <td>Ideal</td>\n",
              "      <td>E</td>\n",
              "      <td>SI1</td>\n",
              "      <td>61.9</td>\n",
              "      <td>56.0</td>\n",
              "      <td>2756</td>\n",
              "      <td>5.71</td>\n",
              "      <td>5.73</td>\n",
              "      <td>3.54</td>\n",
              "    </tr>\n",
              "    <tr>\n",
              "      <th>53927</th>\n",
              "      <td>0.79</td>\n",
              "      <td>Good</td>\n",
              "      <td>F</td>\n",
              "      <td>SI1</td>\n",
              "      <td>58.1</td>\n",
              "      <td>59.0</td>\n",
              "      <td>2756</td>\n",
              "      <td>6.06</td>\n",
              "      <td>6.13</td>\n",
              "      <td>3.54</td>\n",
              "    </tr>\n",
              "    <tr>\n",
              "      <th>53928</th>\n",
              "      <td>0.79</td>\n",
              "      <td>Premium</td>\n",
              "      <td>E</td>\n",
              "      <td>SI2</td>\n",
              "      <td>61.4</td>\n",
              "      <td>58.0</td>\n",
              "      <td>2756</td>\n",
              "      <td>6.03</td>\n",
              "      <td>5.96</td>\n",
              "      <td>3.68</td>\n",
              "    </tr>\n",
              "    <tr>\n",
              "      <th>53929</th>\n",
              "      <td>0.71</td>\n",
              "      <td>Ideal</td>\n",
              "      <td>G</td>\n",
              "      <td>VS1</td>\n",
              "      <td>61.4</td>\n",
              "      <td>56.0</td>\n",
              "      <td>2756</td>\n",
              "      <td>5.76</td>\n",
              "      <td>5.73</td>\n",
              "      <td>3.53</td>\n",
              "    </tr>\n",
              "    <tr>\n",
              "      <th>53930</th>\n",
              "      <td>0.71</td>\n",
              "      <td>Premium</td>\n",
              "      <td>E</td>\n",
              "      <td>SI1</td>\n",
              "      <td>60.5</td>\n",
              "      <td>55.0</td>\n",
              "      <td>2756</td>\n",
              "      <td>5.79</td>\n",
              "      <td>5.74</td>\n",
              "      <td>3.49</td>\n",
              "    </tr>\n",
              "    <tr>\n",
              "      <th>53931</th>\n",
              "      <td>0.71</td>\n",
              "      <td>Premium</td>\n",
              "      <td>F</td>\n",
              "      <td>SI1</td>\n",
              "      <td>59.8</td>\n",
              "      <td>62.0</td>\n",
              "      <td>2756</td>\n",
              "      <td>5.74</td>\n",
              "      <td>5.73</td>\n",
              "      <td>3.43</td>\n",
              "    </tr>\n",
              "    <tr>\n",
              "      <th>53932</th>\n",
              "      <td>0.70</td>\n",
              "      <td>Very Good</td>\n",
              "      <td>E</td>\n",
              "      <td>VS2</td>\n",
              "      <td>60.5</td>\n",
              "      <td>59.0</td>\n",
              "      <td>2757</td>\n",
              "      <td>5.71</td>\n",
              "      <td>5.76</td>\n",
              "      <td>3.47</td>\n",
              "    </tr>\n",
              "    <tr>\n",
              "      <th>53933</th>\n",
              "      <td>0.70</td>\n",
              "      <td>Very Good</td>\n",
              "      <td>E</td>\n",
              "      <td>VS2</td>\n",
              "      <td>61.2</td>\n",
              "      <td>59.0</td>\n",
              "      <td>2757</td>\n",
              "      <td>5.69</td>\n",
              "      <td>5.72</td>\n",
              "      <td>3.49</td>\n",
              "    </tr>\n",
              "    <tr>\n",
              "      <th>53934</th>\n",
              "      <td>0.72</td>\n",
              "      <td>Premium</td>\n",
              "      <td>D</td>\n",
              "      <td>SI1</td>\n",
              "      <td>62.7</td>\n",
              "      <td>59.0</td>\n",
              "      <td>2757</td>\n",
              "      <td>5.69</td>\n",
              "      <td>5.73</td>\n",
              "      <td>3.58</td>\n",
              "    </tr>\n",
              "    <tr>\n",
              "      <th>53935</th>\n",
              "      <td>0.72</td>\n",
              "      <td>Ideal</td>\n",
              "      <td>D</td>\n",
              "      <td>SI1</td>\n",
              "      <td>60.8</td>\n",
              "      <td>57.0</td>\n",
              "      <td>2757</td>\n",
              "      <td>5.75</td>\n",
              "      <td>5.76</td>\n",
              "      <td>3.50</td>\n",
              "    </tr>\n",
              "    <tr>\n",
              "      <th>53936</th>\n",
              "      <td>0.72</td>\n",
              "      <td>Good</td>\n",
              "      <td>D</td>\n",
              "      <td>SI1</td>\n",
              "      <td>63.1</td>\n",
              "      <td>55.0</td>\n",
              "      <td>2757</td>\n",
              "      <td>5.69</td>\n",
              "      <td>5.75</td>\n",
              "      <td>3.61</td>\n",
              "    </tr>\n",
              "    <tr>\n",
              "      <th>53937</th>\n",
              "      <td>0.70</td>\n",
              "      <td>Very Good</td>\n",
              "      <td>D</td>\n",
              "      <td>SI1</td>\n",
              "      <td>62.8</td>\n",
              "      <td>60.0</td>\n",
              "      <td>2757</td>\n",
              "      <td>5.66</td>\n",
              "      <td>5.68</td>\n",
              "      <td>3.56</td>\n",
              "    </tr>\n",
              "    <tr>\n",
              "      <th>53938</th>\n",
              "      <td>0.86</td>\n",
              "      <td>Premium</td>\n",
              "      <td>H</td>\n",
              "      <td>SI2</td>\n",
              "      <td>61.0</td>\n",
              "      <td>58.0</td>\n",
              "      <td>2757</td>\n",
              "      <td>6.15</td>\n",
              "      <td>6.12</td>\n",
              "      <td>3.74</td>\n",
              "    </tr>\n",
              "    <tr>\n",
              "      <th>53939</th>\n",
              "      <td>0.75</td>\n",
              "      <td>Ideal</td>\n",
              "      <td>D</td>\n",
              "      <td>SI2</td>\n",
              "      <td>62.2</td>\n",
              "      <td>55.0</td>\n",
              "      <td>2757</td>\n",
              "      <td>5.83</td>\n",
              "      <td>5.87</td>\n",
              "      <td>3.64</td>\n",
              "    </tr>\n",
              "  </tbody>\n",
              "</table>\n",
              "</div>"
            ],
            "text/plain": [
              "       carat        cut color clarity  depth  table  price     x     y     z\n",
              "53910   0.70    Premium     E     SI1   60.5   58.0   2753  5.74  5.77  3.48\n",
              "53911   0.57    Premium     E      IF   59.8   60.0   2753  5.43  5.38  3.23\n",
              "53912   0.61    Premium     F    VVS1   61.8   59.0   2753  5.48  5.40  3.36\n",
              "53913   0.80       Good     G     VS2   64.2   58.0   2753  5.84  5.81  3.74\n",
              "53914   0.84       Good     I     VS1   63.7   59.0   2753  5.94  5.90  3.77\n",
              "53915   0.77      Ideal     E     SI2   62.1   56.0   2753  5.84  5.86  3.63\n",
              "53916   0.74       Good     D     SI1   63.1   59.0   2753  5.71  5.74  3.61\n",
              "53917   0.90  Very Good     J     SI1   63.2   60.0   2753  6.12  6.09  3.86\n",
              "53918   0.76    Premium     I     VS1   59.3   62.0   2753  5.93  5.85  3.49\n",
              "53919   0.76      Ideal     I    VVS1   62.2   55.0   2753  5.89  5.87  3.66\n",
              "53920   0.70  Very Good     E     VS2   62.4   60.0   2755  5.57  5.61  3.49\n",
              "53921   0.70  Very Good     E     VS2   62.8   60.0   2755  5.59  5.65  3.53\n",
              "53922   0.70  Very Good     D     VS1   63.1   59.0   2755  5.67  5.58  3.55\n",
              "53923   0.73      Ideal     I     VS2   61.3   56.0   2756  5.80  5.84  3.57\n",
              "53924   0.73      Ideal     I     VS2   61.6   55.0   2756  5.82  5.84  3.59\n",
              "53925   0.79      Ideal     I     SI1   61.6   56.0   2756  5.95  5.97  3.67\n",
              "53926   0.71      Ideal     E     SI1   61.9   56.0   2756  5.71  5.73  3.54\n",
              "53927   0.79       Good     F     SI1   58.1   59.0   2756  6.06  6.13  3.54\n",
              "53928   0.79    Premium     E     SI2   61.4   58.0   2756  6.03  5.96  3.68\n",
              "53929   0.71      Ideal     G     VS1   61.4   56.0   2756  5.76  5.73  3.53\n",
              "53930   0.71    Premium     E     SI1   60.5   55.0   2756  5.79  5.74  3.49\n",
              "53931   0.71    Premium     F     SI1   59.8   62.0   2756  5.74  5.73  3.43\n",
              "53932   0.70  Very Good     E     VS2   60.5   59.0   2757  5.71  5.76  3.47\n",
              "53933   0.70  Very Good     E     VS2   61.2   59.0   2757  5.69  5.72  3.49\n",
              "53934   0.72    Premium     D     SI1   62.7   59.0   2757  5.69  5.73  3.58\n",
              "53935   0.72      Ideal     D     SI1   60.8   57.0   2757  5.75  5.76  3.50\n",
              "53936   0.72       Good     D     SI1   63.1   55.0   2757  5.69  5.75  3.61\n",
              "53937   0.70  Very Good     D     SI1   62.8   60.0   2757  5.66  5.68  3.56\n",
              "53938   0.86    Premium     H     SI2   61.0   58.0   2757  6.15  6.12  3.74\n",
              "53939   0.75      Ideal     D     SI2   62.2   55.0   2757  5.83  5.87  3.64"
            ]
          },
          "metadata": {},
          "execution_count": 4
        }
      ]
    },
    {
      "cell_type": "code",
      "metadata": {
        "colab": {
          "base_uri": "https://localhost:8080/"
        },
        "id": "coKGeDftgLcb",
        "outputId": "debb03be-e2c4-49eb-d560-9bd0b8490b5d"
      },
      "source": [
        "data.shape"
      ],
      "execution_count": 5,
      "outputs": [
        {
          "output_type": "execute_result",
          "data": {
            "text/plain": [
              "(53940, 10)"
            ]
          },
          "metadata": {},
          "execution_count": 5
        }
      ]
    },
    {
      "cell_type": "code",
      "metadata": {
        "colab": {
          "base_uri": "https://localhost:8080/"
        },
        "id": "ViOKVX9hgRVL",
        "outputId": "b25eb269-087a-43e2-b2e0-591718a92922"
      },
      "source": [
        "data.info()"
      ],
      "execution_count": 6,
      "outputs": [
        {
          "output_type": "stream",
          "name": "stdout",
          "text": [
            "<class 'pandas.core.frame.DataFrame'>\n",
            "RangeIndex: 53940 entries, 0 to 53939\n",
            "Data columns (total 10 columns):\n",
            " #   Column   Non-Null Count  Dtype  \n",
            "---  ------   --------------  -----  \n",
            " 0   carat    53940 non-null  float64\n",
            " 1   cut      53940 non-null  object \n",
            " 2   color    53940 non-null  object \n",
            " 3   clarity  53940 non-null  object \n",
            " 4   depth    53940 non-null  float64\n",
            " 5   table    53940 non-null  float64\n",
            " 6   price    53940 non-null  int64  \n",
            " 7   x        53940 non-null  float64\n",
            " 8   y        53940 non-null  float64\n",
            " 9   z        53940 non-null  float64\n",
            "dtypes: float64(6), int64(1), object(3)\n",
            "memory usage: 4.1+ MB\n"
          ]
        }
      ]
    },
    {
      "cell_type": "code",
      "metadata": {
        "colab": {
          "base_uri": "https://localhost:8080/",
          "height": 300
        },
        "id": "c3zwNxTagbAE",
        "outputId": "569fb4a4-f174-4f89-aa05-a5464d36b896"
      },
      "source": [
        "data.describe()"
      ],
      "execution_count": 7,
      "outputs": [
        {
          "output_type": "execute_result",
          "data": {
            "text/html": [
              "<div>\n",
              "<style scoped>\n",
              "    .dataframe tbody tr th:only-of-type {\n",
              "        vertical-align: middle;\n",
              "    }\n",
              "\n",
              "    .dataframe tbody tr th {\n",
              "        vertical-align: top;\n",
              "    }\n",
              "\n",
              "    .dataframe thead th {\n",
              "        text-align: right;\n",
              "    }\n",
              "</style>\n",
              "<table border=\"1\" class=\"dataframe\">\n",
              "  <thead>\n",
              "    <tr style=\"text-align: right;\">\n",
              "      <th></th>\n",
              "      <th>carat</th>\n",
              "      <th>depth</th>\n",
              "      <th>table</th>\n",
              "      <th>price</th>\n",
              "      <th>x</th>\n",
              "      <th>y</th>\n",
              "      <th>z</th>\n",
              "    </tr>\n",
              "  </thead>\n",
              "  <tbody>\n",
              "    <tr>\n",
              "      <th>count</th>\n",
              "      <td>53940.000000</td>\n",
              "      <td>53940.000000</td>\n",
              "      <td>53940.000000</td>\n",
              "      <td>53940.000000</td>\n",
              "      <td>53940.000000</td>\n",
              "      <td>53940.000000</td>\n",
              "      <td>53940.000000</td>\n",
              "    </tr>\n",
              "    <tr>\n",
              "      <th>mean</th>\n",
              "      <td>0.797940</td>\n",
              "      <td>61.749405</td>\n",
              "      <td>57.457184</td>\n",
              "      <td>3932.799722</td>\n",
              "      <td>5.731157</td>\n",
              "      <td>5.734526</td>\n",
              "      <td>3.538734</td>\n",
              "    </tr>\n",
              "    <tr>\n",
              "      <th>std</th>\n",
              "      <td>0.474011</td>\n",
              "      <td>1.432621</td>\n",
              "      <td>2.234491</td>\n",
              "      <td>3989.439738</td>\n",
              "      <td>1.121761</td>\n",
              "      <td>1.142135</td>\n",
              "      <td>0.705699</td>\n",
              "    </tr>\n",
              "    <tr>\n",
              "      <th>min</th>\n",
              "      <td>0.200000</td>\n",
              "      <td>43.000000</td>\n",
              "      <td>43.000000</td>\n",
              "      <td>326.000000</td>\n",
              "      <td>0.000000</td>\n",
              "      <td>0.000000</td>\n",
              "      <td>0.000000</td>\n",
              "    </tr>\n",
              "    <tr>\n",
              "      <th>25%</th>\n",
              "      <td>0.400000</td>\n",
              "      <td>61.000000</td>\n",
              "      <td>56.000000</td>\n",
              "      <td>950.000000</td>\n",
              "      <td>4.710000</td>\n",
              "      <td>4.720000</td>\n",
              "      <td>2.910000</td>\n",
              "    </tr>\n",
              "    <tr>\n",
              "      <th>50%</th>\n",
              "      <td>0.700000</td>\n",
              "      <td>61.800000</td>\n",
              "      <td>57.000000</td>\n",
              "      <td>2401.000000</td>\n",
              "      <td>5.700000</td>\n",
              "      <td>5.710000</td>\n",
              "      <td>3.530000</td>\n",
              "    </tr>\n",
              "    <tr>\n",
              "      <th>75%</th>\n",
              "      <td>1.040000</td>\n",
              "      <td>62.500000</td>\n",
              "      <td>59.000000</td>\n",
              "      <td>5324.250000</td>\n",
              "      <td>6.540000</td>\n",
              "      <td>6.540000</td>\n",
              "      <td>4.040000</td>\n",
              "    </tr>\n",
              "    <tr>\n",
              "      <th>max</th>\n",
              "      <td>5.010000</td>\n",
              "      <td>79.000000</td>\n",
              "      <td>95.000000</td>\n",
              "      <td>18823.000000</td>\n",
              "      <td>10.740000</td>\n",
              "      <td>58.900000</td>\n",
              "      <td>31.800000</td>\n",
              "    </tr>\n",
              "  </tbody>\n",
              "</table>\n",
              "</div>"
            ],
            "text/plain": [
              "              carat         depth  ...             y             z\n",
              "count  53940.000000  53940.000000  ...  53940.000000  53940.000000\n",
              "mean       0.797940     61.749405  ...      5.734526      3.538734\n",
              "std        0.474011      1.432621  ...      1.142135      0.705699\n",
              "min        0.200000     43.000000  ...      0.000000      0.000000\n",
              "25%        0.400000     61.000000  ...      4.720000      2.910000\n",
              "50%        0.700000     61.800000  ...      5.710000      3.530000\n",
              "75%        1.040000     62.500000  ...      6.540000      4.040000\n",
              "max        5.010000     79.000000  ...     58.900000     31.800000\n",
              "\n",
              "[8 rows x 7 columns]"
            ]
          },
          "metadata": {},
          "execution_count": 7
        }
      ]
    },
    {
      "cell_type": "markdown",
      "metadata": {
        "id": "cE5rST5Iguf0"
      },
      "source": [
        "Univariate analysis"
      ]
    },
    {
      "cell_type": "code",
      "metadata": {
        "colab": {
          "base_uri": "https://localhost:8080/",
          "height": 297
        },
        "id": "9Nkx8_meg7Mk",
        "outputId": "4eda2898-c71a-4950-cb95-709b4a512511"
      },
      "source": [
        "sns.boxplot(data['carat'])"
      ],
      "execution_count": 9,
      "outputs": [
        {
          "output_type": "execute_result",
          "data": {
            "text/plain": [
              "<matplotlib.axes._subplots.AxesSubplot at 0x7fc642d53890>"
            ]
          },
          "metadata": {},
          "execution_count": 9
        },
        {
          "output_type": "display_data",
          "data": {
            "image/png": "[encoded data removed]",
            "text/plain": [
              "<Figure size 432x288 with 1 Axes>"
            ]
          },
          "metadata": {
            "needs_background": "light"
          }
        }
      ]
    },
    {
      "cell_type": "code",
      "metadata": {
        "colab": {
          "base_uri": "https://localhost:8080/",
          "height": 297
        },
        "id": "L5gJJHb-gt17",
        "outputId": "75cbaa91-c6ce-4b8e-c636-e2f9353e00db"
      },
      "source": [
        "sns.distplot(data['carat'])"
      ],
      "execution_count": null,
      "outputs": [
        {
          "output_type": "execute_result",
          "data": {
            "text/plain": [
              "<matplotlib.axes._subplots.AxesSubplot at 0x7fc64edcb890>"
            ]
          },
          "metadata": {},
          "execution_count": 8
        },
        {
          "output_type": "display_data",
          "data": {
            "image/png": "[encoded data removed]",
            "text/plain": [
              "<Figure size 432x288 with 1 Axes>"
            ]
          },
          "metadata": {
            "needs_background": "light"
          }
        }
      ]
    },
    {
      "cell_type": "code",
      "metadata": {
        "id": "X88akkfDhQ-V"
      },
      "source": [
        "quartile1 =np.percentile(data['carat'],25)\n",
        "quartile3 =np.percentile(data['carat'],75)\n",
        "IQR = (quartile3 - quartile1)\n",
        "goodvalue=IQR * 1.5\n",
        "lowerbound=quartile1 - goodvalue\n",
        "upperbound=quartile3 + goodvalue\n",
        "data=data[data['carat'] < upperbound]\n",
        "data=data[data['carat'] > lowerbound]"
      ],
      "execution_count": 14,
      "outputs": []
    },
    {
      "cell_type": "code",
      "metadata": {
        "colab": {
          "base_uri": "https://localhost:8080/",
          "height": 297
        },
        "id": "iJPb6xtBiZnf",
        "outputId": "0ba4169c-b0de-4789-b2fc-57da5d348a4a"
      },
      "source": [
        "sns.boxplot(data['carat'])"
      ],
      "execution_count": 15,
      "outputs": [
        {
          "output_type": "execute_result",
          "data": {
            "text/plain": [
              "<matplotlib.axes._subplots.AxesSubplot at 0x7fc6429f0690>"
            ]
          },
          "metadata": {},
          "execution_count": 15
        },
        {
          "output_type": "display_data",
          "data": {
            "image/png": "[encoded data removed]",
            "text/plain": [
              "<Figure size 432x288 with 1 Axes>"
            ]
          },
          "metadata": {
            "needs_background": "light"
          }
        }
      ]
    },
    {
      "cell_type": "code",
      "metadata": {
        "colab": {
          "base_uri": "https://localhost:8080/",
          "height": 297
        },
        "id": "dN2WlLL7ij7M",
        "outputId": "9364da47-9acc-4b1c-d6cf-f5f9b772a142"
      },
      "source": [
        "sns.boxplot(data['depth'])"
      ],
      "execution_count": 16,
      "outputs": [
        {
          "output_type": "execute_result",
          "data": {
            "text/plain": [
              "<matplotlib.axes._subplots.AxesSubplot at 0x7fc6429b6f90>"
            ]
          },
          "metadata": {},
          "execution_count": 16
        },
        {
          "output_type": "display_data",
          "data": {
            "image/png": "[encoded data removed]",
            "text/plain": [
              "<Figure size 432x288 with 1 Axes>"
            ]
          },
          "metadata": {
            "needs_background": "light"
          }
        }
      ]
    },
    {
      "cell_type": "code",
      "metadata": {
        "colab": {
          "base_uri": "https://localhost:8080/",
          "height": 297
        },
        "id": "R42vsF8qitBV",
        "outputId": "d7aa5bc0-87ca-43fe-f223-3c75fe726848"
      },
      "source": [
        "sns.distplot(data['depth'])"
      ],
      "execution_count": 17,
      "outputs": [
        {
          "output_type": "execute_result",
          "data": {
            "text/plain": [
              "<matplotlib.axes._subplots.AxesSubplot at 0x7fc64293e390>"
            ]
          },
          "metadata": {},
          "execution_count": 17
        },
        {
          "output_type": "display_data",
          "data": {
            "image/png": "[encoded data removed]",
            "text/plain": [
              "<Figure size 432x288 with 1 Axes>"
            ]
          },
          "metadata": {
            "needs_background": "light"
          }
        }
      ]
    },
    {
      "cell_type": "code",
      "metadata": {
        "id": "ufFTb7I4jKF5"
      },
      "source": [
        "quartile1 =np.percentile(data['depth'],25)\n",
        "quartile3 =np.percentile(data['depth'],75)\n",
        "IQR = (quartile3 - quartile1)\n",
        "goodvalue=IQR * 1.5\n",
        "lowerbound=quartile1 - goodvalue\n",
        "upperbound=quartile3 + goodvalue\n",
        "data=data[data['depth'] < upperbound]\n",
        "data=data[data['depth'] > lowerbound]"
      ],
      "execution_count": 18,
      "outputs": []
    },
    {
      "cell_type": "code",
      "metadata": {
        "colab": {
          "base_uri": "https://localhost:8080/",
          "height": 297
        },
        "id": "kLeeHEpCjhVF",
        "outputId": "39b6e7ff-55df-49e1-9ebb-995bcf942e36"
      },
      "source": [
        "sns.boxplot(data['depth'])"
      ],
      "execution_count": 19,
      "outputs": [
        {
          "output_type": "execute_result",
          "data": {
            "text/plain": [
              "<matplotlib.axes._subplots.AxesSubplot at 0x7fc642d14490>"
            ]
          },
          "metadata": {},
          "execution_count": 19
        },
        {
          "output_type": "display_data",
          "data": {
            "image/png": "[encoded data removed]",
            "text/plain": [
              "<Figure size 432x288 with 1 Axes>"
            ]
          },
          "metadata": {
            "needs_background": "light"
          }
        }
      ]
    },
    {
      "cell_type": "code",
      "metadata": {
        "colab": {
          "base_uri": "https://localhost:8080/",
          "height": 297
        },
        "id": "O-UcJpcIjlIM",
        "outputId": "0b3aa113-c1f4-4d1a-c166-4b2e86aedf17"
      },
      "source": [
        "sns.boxplot(data['table'])"
      ],
      "execution_count": 20,
      "outputs": [
        {
          "output_type": "execute_result",
          "data": {
            "text/plain": [
              "<matplotlib.axes._subplots.AxesSubplot at 0x7fc6427c0490>"
            ]
          },
          "metadata": {},
          "execution_count": 20
        },
        {
          "output_type": "display_data",
          "data": {
            "image/png": "[encoded data removed]",
            "text/plain": [
              "<Figure size 432x288 with 1 Axes>"
            ]
          },
          "metadata": {
            "needs_background": "light"
          }
        }
      ]
    },
    {
      "cell_type": "code",
      "metadata": {
        "colab": {
          "base_uri": "https://localhost:8080/",
          "height": 297
        },
        "id": "pqwMNEfwjs8m",
        "outputId": "e3195c1a-9425-4b0b-956a-fb38f9a36cc0"
      },
      "source": [
        "sns.distplot(data['table'])"
      ],
      "execution_count": 21,
      "outputs": [
        {
          "output_type": "execute_result",
          "data": {
            "text/plain": [
              "<matplotlib.axes._subplots.AxesSubplot at 0x7fc642795890>"
            ]
          },
          "metadata": {},
          "execution_count": 21
        },
        {
          "output_type": "display_data",
          "data": {
            "image/png": "[encoded data removed]",
            "text/plain": [
              "<Figure size 432x288 with 1 Axes>"
            ]
          },
          "metadata": {
            "needs_background": "light"
          }
        }
      ]
    },
    {
      "cell_type": "code",
      "metadata": {
        "id": "06uUEMwMjvdF"
      },
      "source": [
        "quartile1 =np.percentile(data['table'],25)\n",
        "quartile3 =np.percentile(data['table'],75)\n",
        "IQR = (quartile3 - quartile1)\n",
        "goodvalue=IQR * 1.5\n",
        "lowerbound=quartile1 - goodvalue\n",
        "upperbound=quartile3 + goodvalue\n",
        "data=data[data['table'] < upperbound]\n",
        "data=data[data['table'] > lowerbound]"
      ],
      "execution_count": 22,
      "outputs": []
    },
    {
      "cell_type": "code",
      "metadata": {
        "colab": {
          "base_uri": "https://localhost:8080/",
          "height": 297
        },
        "id": "IXadwpXejyQs",
        "outputId": "824b52ab-d035-4aaa-a757-d8b4f50dd62f"
      },
      "source": [
        "sns.boxplot(data['table'])"
      ],
      "execution_count": 23,
      "outputs": [
        {
          "output_type": "execute_result",
          "data": {
            "text/plain": [
              "<matplotlib.axes._subplots.AxesSubplot at 0x7fc6428211d0>"
            ]
          },
          "metadata": {},
          "execution_count": 23
        },
        {
          "output_type": "display_data",
          "data": {
            "image/png": "[encoded data removed]",
            "text/plain": [
              "<Figure size 432x288 with 1 Axes>"
            ]
          },
          "metadata": {
            "needs_background": "light"
          }
        }
      ]
    },
    {
      "cell_type": "code",
      "metadata": {
        "colab": {
          "base_uri": "https://localhost:8080/",
          "height": 297
        },
        "id": "lkhfjnL1kFkX",
        "outputId": "bae23689-56ab-403d-feed-3695723f008d"
      },
      "source": [
        "sns.boxplot(data['price'])"
      ],
      "execution_count": 24,
      "outputs": [
        {
          "output_type": "execute_result",
          "data": {
            "text/plain": [
              "<matplotlib.axes._subplots.AxesSubplot at 0x7fc6425f4710>"
            ]
          },
          "metadata": {},
          "execution_count": 24
        },
        {
          "output_type": "display_data",
          "data": {
            "image/png": "[encoded data removed]",
            "text/plain": [
              "<Figure size 432x288 with 1 Axes>"
            ]
          },
          "metadata": {
            "needs_background": "light"
          }
        }
      ]
    },
    {
      "cell_type": "code",
      "metadata": {
        "colab": {
          "base_uri": "https://localhost:8080/",
          "height": 297
        },
        "id": "ogTAVu3UkFzv",
        "outputId": "b6cfa6c3-49cd-49d2-874f-4d61ec2ea1ed"
      },
      "source": [
        "sns.distplot(data['price'])"
      ],
      "execution_count": 25,
      "outputs": [
        {
          "output_type": "execute_result",
          "data": {
            "text/plain": [
              "<matplotlib.axes._subplots.AxesSubplot at 0x7fc642575ad0>"
            ]
          },
          "metadata": {},
          "execution_count": 25
        },
        {
          "output_type": "display_data",
          "data": {
            "image/png": "[encoded data removed]",
            "text/plain": [
              "<Figure size 432x288 with 1 Axes>"
            ]
          },
          "metadata": {
            "needs_background": "light"
          }
        }
      ]
    },
    {
      "cell_type": "code",
      "metadata": {
        "colab": {
          "base_uri": "https://localhost:8080/"
        },
        "id": "WDta67WKkF7O",
        "outputId": "44092401-c6d9-4148-8bde-38bd652dacca"
      },
      "source": [
        "quartile1 =np.percentile(data['price'],25)\n",
        "quartile3 =np.percentile(data['price'],75)\n",
        "IQR = (quartile3 - quartile1)\n",
        "goodvalue=IQR * 1.5\n",
        "lowerbound=quartile1 - goodvalue\n",
        "upperbound=quartile3 + goodvalue\n",
        "data=data[data['price'] < upperbound]\n",
        "data=data[data['price'] > lowerbound]\n",
        "print(upperbound,lowerbound)"
      ],
      "execution_count": 28,
      "outputs": [
        {
          "output_type": "stream",
          "name": "stdout",
          "text": [
            "9938.0 -4558.0\n"
          ]
        }
      ]
    },
    {
      "cell_type": "code",
      "metadata": {
        "colab": {
          "base_uri": "https://localhost:8080/",
          "height": 297
        },
        "id": "04EDNi1dkGDT",
        "outputId": "e1ed5a29-5c3d-4acf-8ffe-3fc7787cd80d"
      },
      "source": [
        "sns.boxplot(data['price'])"
      ],
      "execution_count": 27,
      "outputs": [
        {
          "output_type": "execute_result",
          "data": {
            "text/plain": [
              "<matplotlib.axes._subplots.AxesSubplot at 0x7fc6424748d0>"
            ]
          },
          "metadata": {},
          "execution_count": 27
        },
        {
          "output_type": "display_data",
          "data": {
            "image/png": "[encoded data removed]",
            "text/plain": [
              "<Figure size 432x288 with 1 Axes>"
            ]
          },
          "metadata": {
            "needs_background": "light"
          }
        }
      ]
    },
    {
      "cell_type": "code",
      "metadata": {
        "colab": {
          "base_uri": "https://localhost:8080/",
          "height": 297
        },
        "id": "eW7SelDzkxzE",
        "outputId": "af944739-2d8a-4113-841a-5a7e89a3275c"
      },
      "source": [
        "sns.boxplot(data['x'])"
      ],
      "execution_count": 29,
      "outputs": [
        {
          "output_type": "execute_result",
          "data": {
            "text/plain": [
              "<matplotlib.axes._subplots.AxesSubplot at 0x7fc64283bd90>"
            ]
          },
          "metadata": {},
          "execution_count": 29
        },
        {
          "output_type": "display_data",
          "data": {
            "image/png": "[encoded data removed]",
            "text/plain": [
              "<Figure size 432x288 with 1 Axes>"
            ]
          },
          "metadata": {
            "needs_background": "light"
          }
        }
      ]
    },
    {
      "cell_type": "code",
      "metadata": {
        "colab": {
          "base_uri": "https://localhost:8080/",
          "height": 297
        },
        "id": "OBB8XkETk0jF",
        "outputId": "7520fdf6-12e1-4068-aa4b-bcbc1e10465b"
      },
      "source": [
        "sns.distplot(data['x'])"
      ],
      "execution_count": 30,
      "outputs": [
        {
          "output_type": "execute_result",
          "data": {
            "text/plain": [
              "<matplotlib.axes._subplots.AxesSubplot at 0x7fc642507950>"
            ]
          },
          "metadata": {},
          "execution_count": 30
        },
        {
          "output_type": "display_data",
          "data": {
            "image/png": "[encoded data removed]",
            "text/plain": [
              "<Figure size 432x288 with 1 Axes>"
            ]
          },
          "metadata": {
            "needs_background": "light"
          }
        }
      ]
    },
    {
      "cell_type": "code",
      "metadata": {
        "id": "Zegv1CU8k0n-"
      },
      "source": [
        "quartile1 =np.percentile(data['x'],25)\n",
        "quartile3 =np.percentile(data['x'],75)\n",
        "IQR = (quartile3 - quartile1)\n",
        "goodvalue=IQR * 1.5\n",
        "lowerbound=quartile1 - goodvalue\n",
        "upperbound=quartile3 + goodvalue\n",
        "data=data[data['x'] < upperbound]\n",
        "data=data[data['x'] > lowerbound]\n"
      ],
      "execution_count": 31,
      "outputs": []
    },
    {
      "cell_type": "code",
      "metadata": {
        "colab": {
          "base_uri": "https://localhost:8080/",
          "height": 297
        },
        "id": "eZipSo-Wk0xY",
        "outputId": "daeecaab-afde-4cfa-982e-38ee8be979c0"
      },
      "source": [
        "sns.boxplot(data['x'])"
      ],
      "execution_count": 32,
      "outputs": [
        {
          "output_type": "execute_result",
          "data": {
            "text/plain": [
              "<matplotlib.axes._subplots.AxesSubplot at 0x7fc6422ed950>"
            ]
          },
          "metadata": {},
          "execution_count": 32
        },
        {
          "output_type": "display_data",
          "data": {
            "image/png": "[encoded data removed]",
            "text/plain": [
              "<Figure size 432x288 with 1 Axes>"
            ]
          },
          "metadata": {
            "needs_background": "light"
          }
        }
      ]
    },
    {
      "cell_type": "code",
      "metadata": {
        "colab": {
          "base_uri": "https://localhost:8080/",
          "height": 297
        },
        "id": "TePdap5-lMrd",
        "outputId": "5e54a05d-5d1a-431a-84a0-6277541f6cb1"
      },
      "source": [
        "sns.boxplot(data['y'])"
      ],
      "execution_count": 33,
      "outputs": [
        {
          "output_type": "execute_result",
          "data": {
            "text/plain": [
              "<matplotlib.axes._subplots.AxesSubplot at 0x7fc6422de290>"
            ]
          },
          "metadata": {},
          "execution_count": 33
        },
        {
          "output_type": "display_data",
          "data": {
            "image/png": "[encoded data removed]",
            "text/plain": [
              "<Figure size 432x288 with 1 Axes>"
            ]
          },
          "metadata": {
            "needs_background": "light"
          }
        }
      ]
    },
    {
      "cell_type": "code",
      "metadata": {
        "colab": {
          "base_uri": "https://localhost:8080/",
          "height": 297
        },
        "id": "h_64o24UlM2z",
        "outputId": "1a83ba14-72c5-4ff9-d3e2-ec5b889d393c"
      },
      "source": [
        "sns.distplot(data['y'])"
      ],
      "execution_count": 34,
      "outputs": [
        {
          "output_type": "execute_result",
          "data": {
            "text/plain": [
              "<matplotlib.axes._subplots.AxesSubplot at 0x7fc64223bf10>"
            ]
          },
          "metadata": {},
          "execution_count": 34
        },
        {
          "output_type": "display_data",
          "data": {
            "image/png": "[encoded data removed]",
            "text/plain": [
              "<Figure size 432x288 with 1 Axes>"
            ]
          },
          "metadata": {
            "needs_background": "light"
          }
        }
      ]
    },
    {
      "cell_type": "code",
      "metadata": {
        "id": "Ak8Id7vNlNC2"
      },
      "source": [
        "quartile1 =np.percentile(data['y'],25)\n",
        "quartile3 =np.percentile(data['y'],75)\n",
        "IQR = (quartile3 - quartile1)\n",
        "goodvalue=IQR * 1.5\n",
        "lowerbound=quartile1 - goodvalue\n",
        "upperbound=quartile3 + goodvalue\n",
        "data=data[data['y'] < upperbound]\n",
        "data=data[data['y'] > lowerbound]"
      ],
      "execution_count": 35,
      "outputs": []
    },
    {
      "cell_type": "code",
      "metadata": {
        "colab": {
          "base_uri": "https://localhost:8080/",
          "height": 297
        },
        "id": "IBrUAufDlNNV",
        "outputId": "774b8242-7c39-4c20-9dc9-81c85ec29205"
      },
      "source": [
        "sns.boxplot(data['y'])"
      ],
      "execution_count": 36,
      "outputs": [
        {
          "output_type": "execute_result",
          "data": {
            "text/plain": [
              "<matplotlib.axes._subplots.AxesSubplot at 0x7fc642158d90>"
            ]
          },
          "metadata": {},
          "execution_count": 36
        },
        {
          "output_type": "display_data",
          "data": {
            "image/png": "[encoded data removed]",
            "text/plain": [
              "<Figure size 432x288 with 1 Axes>"
            ]
          },
          "metadata": {
            "needs_background": "light"
          }
        }
      ]
    },
    {
      "cell_type": "code",
      "metadata": {
        "colab": {
          "base_uri": "https://localhost:8080/",
          "height": 297
        },
        "id": "QD66Cx5_ldQd",
        "outputId": "20680409-4fdf-4f2e-81c0-84a27ed78c40"
      },
      "source": [
        "sns.boxplot(data['z'])"
      ],
      "execution_count": 38,
      "outputs": [
        {
          "output_type": "execute_result",
          "data": {
            "text/plain": [
              "<matplotlib.axes._subplots.AxesSubplot at 0x7fc6420add10>"
            ]
          },
          "metadata": {},
          "execution_count": 38
        },
        {
          "output_type": "display_data",
          "data": {
            "image/png": "[encoded data removed]",
            "text/plain": [
              "<Figure size 432x288 with 1 Axes>"
            ]
          },
          "metadata": {
            "needs_background": "light"
          }
        }
      ]
    },
    {
      "cell_type": "code",
      "metadata": {
        "colab": {
          "base_uri": "https://localhost:8080/",
          "height": 297
        },
        "id": "pHpleq_vldW0",
        "outputId": "5d37face-a9cb-4afa-bf8a-b8b9adbf1e70"
      },
      "source": [
        "sns.distplot(data['z'])"
      ],
      "execution_count": 39,
      "outputs": [
        {
          "output_type": "execute_result",
          "data": {
            "text/plain": [
              "<matplotlib.axes._subplots.AxesSubplot at 0x7fc64209ff10>"
            ]
          },
          "metadata": {},
          "execution_count": 39
        },
        {
          "output_type": "display_data",
          "data": {
            "image/png": "[encoded data removed]",
            "text/plain": [
              "<Figure size 432x288 with 1 Axes>"
            ]
          },
          "metadata": {
            "needs_background": "light"
          }
        }
      ]
    },
    {
      "cell_type": "code",
      "metadata": {
        "id": "Q_WsOIRJlddA"
      },
      "source": [
        "quartile1 =np.percentile(data['z'],25)\n",
        "quartile3 =np.percentile(data['z'],75)\n",
        "IQR = (quartile3 - quartile1)\n",
        "goodvalue=IQR * 1.5\n",
        "lowerbound=quartile1 - goodvalue\n",
        "upperbound=quartile3 + goodvalue\n",
        "data=data[data['z'] < upperbound]\n",
        "data=data[data['z'] > lowerbound]"
      ],
      "execution_count": 37,
      "outputs": []
    },
    {
      "cell_type": "code",
      "metadata": {
        "colab": {
          "base_uri": "https://localhost:8080/",
          "height": 297
        },
        "id": "uOIaikXFlqDY",
        "outputId": "04d606c0-09c6-4df0-f669-e47d9e2ee61b"
      },
      "source": [
        "sns.boxplot(data['z'])"
      ],
      "execution_count": 40,
      "outputs": [
        {
          "output_type": "execute_result",
          "data": {
            "text/plain": [
              "<matplotlib.axes._subplots.AxesSubplot at 0x7fc641f28810>"
            ]
          },
          "metadata": {},
          "execution_count": 40
        },
        {
          "output_type": "display_data",
          "data": {
            "image/png": "[encoded data removed]",
            "text/plain": [
              "<Figure size 432x288 with 1 Axes>"
            ]
          },
          "metadata": {
            "needs_background": "light"
          }
        }
      ]
    },
    {
      "cell_type": "code",
      "metadata": {
        "colab": {
          "base_uri": "https://localhost:8080/",
          "height": 299
        },
        "id": "x72PkOrZl9ht",
        "outputId": "96ecc704-4c08-48aa-8df3-5e0efa914aec"
      },
      "source": [
        "sns.countplot(data['color'])"
      ],
      "execution_count": 41,
      "outputs": [
        {
          "output_type": "execute_result",
          "data": {
            "text/plain": [
              "<matplotlib.axes._subplots.AxesSubplot at 0x7fc641ea7210>"
            ]
          },
          "metadata": {},
          "execution_count": 41
        },
        {
          "output_type": "display_data",
          "data": {
            "image/png": "[encoded data removed]",
            "text/plain": [
              "<Figure size 432x288 with 1 Axes>"
            ]
          },
          "metadata": {
            "needs_background": "light"
          }
        }
      ]
    },
    {
      "cell_type": "code",
      "metadata": {
        "colab": {
          "base_uri": "https://localhost:8080/",
          "height": 297
        },
        "id": "prVj9rAbmRz-",
        "outputId": "2c75fe1c-1c56-4459-cd05-ab2e858fbb3a"
      },
      "source": [
        "sns.countplot(data['cut'])"
      ],
      "execution_count": 42,
      "outputs": [
        {
          "output_type": "execute_result",
          "data": {
            "text/plain": [
              "<matplotlib.axes._subplots.AxesSubplot at 0x7fc641e94e90>"
            ]
          },
          "metadata": {},
          "execution_count": 42
        },
        {
          "output_type": "display_data",
          "data": {
            "image/png": "[encoded data removed]",
            "text/plain": [
              "<Figure size 432x288 with 1 Axes>"
            ]
          },
          "metadata": {
            "needs_background": "light"
          }
        }
      ]
    },
    {
      "cell_type": "code",
      "metadata": {
        "colab": {
          "base_uri": "https://localhost:8080/",
          "height": 297
        },
        "id": "UedcBvl8mR6q",
        "outputId": "2710c0aa-24a5-4462-cf63-3ea48061c7bd"
      },
      "source": [
        "sns.countplot(data['clarity'])"
      ],
      "execution_count": 43,
      "outputs": [
        {
          "output_type": "execute_result",
          "data": {
            "text/plain": [
              "<matplotlib.axes._subplots.AxesSubplot at 0x7fc641f32dd0>"
            ]
          },
          "metadata": {},
          "execution_count": 43
        },
        {
          "output_type": "display_data",
          "data": {
            "image/png": "[encoded data removed]",
            "text/plain": [
              "<Figure size 432x288 with 1 Axes>"
            ]
          },
          "metadata": {
            "needs_background": "light"
          }
        }
      ]
    },
    {
      "cell_type": "code",
      "metadata": {
        "colab": {
          "base_uri": "https://localhost:8080/",
          "height": 459
        },
        "id": "ECIwK6AsmZhV",
        "outputId": "441c2c6a-f82d-4a7a-cd29-e015f880397f"
      },
      "source": [
        "sns.jointplot(data['carat'],data['price'],kind='reg',palette=['orange','brown'])"
      ],
      "execution_count": 57,
      "outputs": [
        {
          "output_type": "execute_result",
          "data": {
            "text/plain": [
              "<seaborn.axisgrid.JointGrid at 0x7fc641f9b150>"
            ]
          },
          "metadata": {},
          "execution_count": 57
        },
        {
          "output_type": "display_data",
          "data": {
            "image/png": "[encoded data removed]",
            "text/plain": [
              "<Figure size 432x432 with 3 Axes>"
            ]
          },
          "metadata": {
            "needs_background": "light"
          }
        }
      ]
    },
    {
      "cell_type": "code",
      "metadata": {
        "colab": {
          "base_uri": "https://localhost:8080/",
          "height": 297
        },
        "id": "S6wvv0pumz9n",
        "outputId": "1ee49b81-aa95-46ec-dc9e-06bfe5c924d2"
      },
      "source": [
        "sns.scatterplot(data['depth'],data['price'],data='diamonds',palette=['colorblind'])"
      ],
      "execution_count": 54,
      "outputs": [
        {
          "output_type": "execute_result",
          "data": {
            "text/plain": [
              "<matplotlib.axes._subplots.AxesSubplot at 0x7fc64005bf90>"
            ]
          },
          "metadata": {},
          "execution_count": 54
        },
        {
          "output_type": "display_data",
          "data": {
            "image/png": "[encoded data removed]",
            "text/plain": [
              "<Figure size 432x288 with 1 Axes>"
            ]
          },
          "metadata": {
            "needs_background": "light"
          }
        }
      ]
    },
    {
      "cell_type": "code",
      "metadata": {
        "colab": {
          "base_uri": "https://localhost:8080/",
          "height": 112
        },
        "id": "hAIUdPKfo0sG",
        "outputId": "b0325922-54d3-497f-8e31-4420addcd068"
      },
      "source": [
        "data[['depth','price']].corr()"
      ],
      "execution_count": 58,
      "outputs": [
        {
          "output_type": "execute_result",
          "data": {
            "text/html": [
              "<div>\n",
              "<style scoped>\n",
              "    .dataframe tbody tr th:only-of-type {\n",
              "        vertical-align: middle;\n",
              "    }\n",
              "\n",
              "    .dataframe tbody tr th {\n",
              "        vertical-align: top;\n",
              "    }\n",
              "\n",
              "    .dataframe thead th {\n",
              "        text-align: right;\n",
              "    }\n",
              "</style>\n",
              "<table border=\"1\" class=\"dataframe\">\n",
              "  <thead>\n",
              "    <tr style=\"text-align: right;\">\n",
              "      <th></th>\n",
              "      <th>depth</th>\n",
              "      <th>price</th>\n",
              "    </tr>\n",
              "  </thead>\n",
              "  <tbody>\n",
              "    <tr>\n",
              "      <th>depth</th>\n",
              "      <td>1.00000</td>\n",
              "      <td>0.02214</td>\n",
              "    </tr>\n",
              "    <tr>\n",
              "      <th>price</th>\n",
              "      <td>0.02214</td>\n",
              "      <td>1.00000</td>\n",
              "    </tr>\n",
              "  </tbody>\n",
              "</table>\n",
              "</div>"
            ],
            "text/plain": [
              "         depth    price\n",
              "depth  1.00000  0.02214\n",
              "price  0.02214  1.00000"
            ]
          },
          "metadata": {},
          "execution_count": 58
        }
      ]
    },
    {
      "cell_type": "code",
      "metadata": {
        "id": "-J-57Lluo6f8"
      },
      "source": [
        "correlation,p_value = pearsonr(data['price'],data['depth'])"
      ],
      "execution_count": 60,
      "outputs": []
    },
    {
      "cell_type": "code",
      "metadata": {
        "colab": {
          "base_uri": "https://localhost:8080/"
        },
        "id": "g9EMm77Xp6UY",
        "outputId": "75daa36e-cc39-48fc-fbf9-b04715544b2a"
      },
      "source": [
        "correlation"
      ],
      "execution_count": 61,
      "outputs": [
        {
          "output_type": "execute_result",
          "data": {
            "text/plain": [
              "0.022140175071300196"
            ]
          },
          "metadata": {},
          "execution_count": 61
        }
      ]
    },
    {
      "cell_type": "code",
      "metadata": {
        "id": "D9QxoN7mp72I"
      },
      "source": [
        "data.drop('depth',axis=1,inplace=True)"
      ],
      "execution_count": null,
      "outputs": []
    },
    {
      "cell_type": "code",
      "metadata": {
        "id": "hY6B3Pd7qEiG"
      },
      "source": [
        "X=data.drop('price',axis=1)\n",
        "Y=data['price']"
      ],
      "execution_count": 85,
      "outputs": []
    },
    {
      "cell_type": "code",
      "metadata": {
        "colab": {
          "base_uri": "https://localhost:8080/",
          "height": 424
        },
        "id": "C42ZhBC1qmKG",
        "outputId": "5230f613-f29d-40b8-f139-2813c144e1bc"
      },
      "source": [
        "X"
      ],
      "execution_count": 86,
      "outputs": [
        {
          "output_type": "execute_result",
          "data": {
            "text/html": [
              "<div>\n",
              "<style scoped>\n",
              "    .dataframe tbody tr th:only-of-type {\n",
              "        vertical-align: middle;\n",
              "    }\n",
              "\n",
              "    .dataframe tbody tr th {\n",
              "        vertical-align: top;\n",
              "    }\n",
              "\n",
              "    .dataframe thead th {\n",
              "        text-align: right;\n",
              "    }\n",
              "</style>\n",
              "<table border=\"1\" class=\"dataframe\">\n",
              "  <thead>\n",
              "    <tr style=\"text-align: right;\">\n",
              "      <th></th>\n",
              "      <th>carat</th>\n",
              "      <th>cut</th>\n",
              "      <th>color</th>\n",
              "      <th>clarity</th>\n",
              "      <th>table</th>\n",
              "      <th>x</th>\n",
              "      <th>y</th>\n",
              "      <th>z</th>\n",
              "    </tr>\n",
              "  </thead>\n",
              "  <tbody>\n",
              "    <tr>\n",
              "      <th>0</th>\n",
              "      <td>0.23</td>\n",
              "      <td>Ideal</td>\n",
              "      <td>E</td>\n",
              "      <td>SI2</td>\n",
              "      <td>55.0</td>\n",
              "      <td>3.95</td>\n",
              "      <td>3.98</td>\n",
              "      <td>2.43</td>\n",
              "    </tr>\n",
              "    <tr>\n",
              "      <th>1</th>\n",
              "      <td>0.21</td>\n",
              "      <td>Premium</td>\n",
              "      <td>E</td>\n",
              "      <td>SI1</td>\n",
              "      <td>61.0</td>\n",
              "      <td>3.89</td>\n",
              "      <td>3.84</td>\n",
              "      <td>2.31</td>\n",
              "    </tr>\n",
              "    <tr>\n",
              "      <th>3</th>\n",
              "      <td>0.29</td>\n",
              "      <td>Premium</td>\n",
              "      <td>I</td>\n",
              "      <td>VS2</td>\n",
              "      <td>58.0</td>\n",
              "      <td>4.20</td>\n",
              "      <td>4.23</td>\n",
              "      <td>2.63</td>\n",
              "    </tr>\n",
              "    <tr>\n",
              "      <th>4</th>\n",
              "      <td>0.31</td>\n",
              "      <td>Good</td>\n",
              "      <td>J</td>\n",
              "      <td>SI2</td>\n",
              "      <td>58.0</td>\n",
              "      <td>4.34</td>\n",
              "      <td>4.35</td>\n",
              "      <td>2.75</td>\n",
              "    </tr>\n",
              "    <tr>\n",
              "      <th>5</th>\n",
              "      <td>0.24</td>\n",
              "      <td>Very Good</td>\n",
              "      <td>J</td>\n",
              "      <td>VVS2</td>\n",
              "      <td>57.0</td>\n",
              "      <td>3.94</td>\n",
              "      <td>3.96</td>\n",
              "      <td>2.48</td>\n",
              "    </tr>\n",
              "    <tr>\n",
              "      <th>...</th>\n",
              "      <td>...</td>\n",
              "      <td>...</td>\n",
              "      <td>...</td>\n",
              "      <td>...</td>\n",
              "      <td>...</td>\n",
              "      <td>...</td>\n",
              "      <td>...</td>\n",
              "      <td>...</td>\n",
              "    </tr>\n",
              "    <tr>\n",
              "      <th>53935</th>\n",
              "      <td>0.72</td>\n",
              "      <td>Ideal</td>\n",
              "      <td>D</td>\n",
              "      <td>SI1</td>\n",
              "      <td>57.0</td>\n",
              "      <td>5.75</td>\n",
              "      <td>5.76</td>\n",
              "      <td>3.50</td>\n",
              "    </tr>\n",
              "    <tr>\n",
              "      <th>53936</th>\n",
              "      <td>0.72</td>\n",
              "      <td>Good</td>\n",
              "      <td>D</td>\n",
              "      <td>SI1</td>\n",
              "      <td>55.0</td>\n",
              "      <td>5.69</td>\n",
              "      <td>5.75</td>\n",
              "      <td>3.61</td>\n",
              "    </tr>\n",
              "    <tr>\n",
              "      <th>53937</th>\n",
              "      <td>0.70</td>\n",
              "      <td>Very Good</td>\n",
              "      <td>D</td>\n",
              "      <td>SI1</td>\n",
              "      <td>60.0</td>\n",
              "      <td>5.66</td>\n",
              "      <td>5.68</td>\n",
              "      <td>3.56</td>\n",
              "    </tr>\n",
              "    <tr>\n",
              "      <th>53938</th>\n",
              "      <td>0.86</td>\n",
              "      <td>Premium</td>\n",
              "      <td>H</td>\n",
              "      <td>SI2</td>\n",
              "      <td>58.0</td>\n",
              "      <td>6.15</td>\n",
              "      <td>6.12</td>\n",
              "      <td>3.74</td>\n",
              "    </tr>\n",
              "    <tr>\n",
              "      <th>53939</th>\n",
              "      <td>0.75</td>\n",
              "      <td>Ideal</td>\n",
              "      <td>D</td>\n",
              "      <td>SI2</td>\n",
              "      <td>55.0</td>\n",
              "      <td>5.83</td>\n",
              "      <td>5.87</td>\n",
              "      <td>3.64</td>\n",
              "    </tr>\n",
              "  </tbody>\n",
              "</table>\n",
              "<p>45343 rows × 8 columns</p>\n",
              "</div>"
            ],
            "text/plain": [
              "       carat        cut color clarity  table     x     y     z\n",
              "0       0.23      Ideal     E     SI2   55.0  3.95  3.98  2.43\n",
              "1       0.21    Premium     E     SI1   61.0  3.89  3.84  2.31\n",
              "3       0.29    Premium     I     VS2   58.0  4.20  4.23  2.63\n",
              "4       0.31       Good     J     SI2   58.0  4.34  4.35  2.75\n",
              "5       0.24  Very Good     J    VVS2   57.0  3.94  3.96  2.48\n",
              "...      ...        ...   ...     ...    ...   ...   ...   ...\n",
              "53935   0.72      Ideal     D     SI1   57.0  5.75  5.76  3.50\n",
              "53936   0.72       Good     D     SI1   55.0  5.69  5.75  3.61\n",
              "53937   0.70  Very Good     D     SI1   60.0  5.66  5.68  3.56\n",
              "53938   0.86    Premium     H     SI2   58.0  6.15  6.12  3.74\n",
              "53939   0.75      Ideal     D     SI2   55.0  5.83  5.87  3.64\n",
              "\n",
              "[45343 rows x 8 columns]"
            ]
          },
          "metadata": {},
          "execution_count": 86
        }
      ]
    },
    {
      "cell_type": "code",
      "metadata": {
        "id": "zCR1OnzOqtvm"
      },
      "source": [
        "from sklearn.preprocessing import LabelEncoder\n",
        "le = LabelEncoder()\n",
        "X['color']=le.fit_transform(X['color'])\n",
        "X['clarity']=le.fit_transform(X['clarity'])\n",
        "X['cut']=le.fit_transform(X['cut'])"
      ],
      "execution_count": 87,
      "outputs": []
    },
    {
      "cell_type": "code",
      "metadata": {
        "colab": {
          "base_uri": "https://localhost:8080/"
        },
        "id": "8RSN-od4r5Vf",
        "outputId": "b37f8ada-e491-4ea1-939c-3ce507faa648"
      },
      "source": [
        "!pip install  StandardScaler"
      ],
      "execution_count": 77,
      "outputs": [
        {
          "output_type": "stream",
          "name": "stdout",
          "text": [
            "Collecting StandardScaler\n",
            "  Downloading StandardScaler-0.5.tar.gz (2.4 kB)\n",
            "Requirement already satisfied: numpy in /usr/local/lib/python3.7/dist-packages (from StandardScaler) (1.19.5)\n",
            "Requirement already satisfied: pandas in /usr/local/lib/python3.7/dist-packages (from StandardScaler) (1.1.5)\n",
            "Requirement already satisfied: scikit-learn in /usr/local/lib/python3.7/dist-packages (from StandardScaler) (1.0.1)\n",
            "Collecting scikit-elm\n",
            "  Downloading scikit_elm-0.21a0-py3-none-any.whl (30 kB)\n",
            "Requirement already satisfied: dask in /usr/local/lib/python3.7/dist-packages (from StandardScaler) (2.12.0)\n",
            "Requirement already satisfied: pytz>=2017.2 in /usr/local/lib/python3.7/dist-packages (from pandas->StandardScaler) (2018.9)\n",
            "Requirement already satisfied: python-dateutil>=2.7.3 in /usr/local/lib/python3.7/dist-packages (from pandas->StandardScaler) (2.8.2)\n",
            "Requirement already satisfied: six>=1.5 in /usr/local/lib/python3.7/dist-packages (from python-dateutil>=2.7.3->pandas->StandardScaler) (1.15.0)\n",
            "Requirement already satisfied: scipy in /usr/local/lib/python3.7/dist-packages (from scikit-elm->StandardScaler) (1.4.1)\n",
            "Requirement already satisfied: threadpoolctl>=2.0.0 in /usr/local/lib/python3.7/dist-packages (from scikit-learn->StandardScaler) (3.0.0)\n",
            "Requirement already satisfied: joblib>=0.11 in /usr/local/lib/python3.7/dist-packages (from scikit-learn->StandardScaler) (1.1.0)\n",
            "Building wheels for collected packages: StandardScaler\n",
            "  Building wheel for StandardScaler (setup.py) ... \u001b[?25l\u001b[?25hdone\n",
            "  Created wheel for StandardScaler: filename=StandardScaler-0.5-py3-none-any.whl size=2613 sha256=8cce96972c63c8230f008d91ab0116e27a6039fa6f353dd064f0ec9d3f510994\n",
            "  Stored in directory: /root/.cache/pip/wheels/96/4c/35/4b72d578909a5b4812388c124c58f04651bf2423981ab749b3\n",
            "Successfully built StandardScaler\n",
            "Installing collected packages: scikit-elm, StandardScaler\n",
            "Successfully installed StandardScaler-0.5 scikit-elm-0.21a0\n"
          ]
        }
      ]
    },
    {
      "cell_type": "code",
      "metadata": {
        "id": "TEi7WHncsp-N"
      },
      "source": [
        ""
      ],
      "execution_count": null,
      "outputs": []
    },
    {
      "cell_type": "code",
      "metadata": {
        "colab": {
          "base_uri": "https://localhost:8080/",
          "height": 424
        },
        "id": "5Dxr8jDNrHd-",
        "outputId": "dbb85ab3-192c-47ee-d13c-da2d8efc9134"
      },
      "source": [
        "from sklearn.preprocessing import StandardScaler\n",
        "sc = StandardScaler()\n",
        "X[['carat','table','x','y','z']]=sc.fit_transform(X[['carat','table','x','y','z']])\n",
        "X"
      ],
      "execution_count": 90,
      "outputs": [
        {
          "output_type": "execute_result",
          "data": {
            "text/html": [
              "<div>\n",
              "<style scoped>\n",
              "    .dataframe tbody tr th:only-of-type {\n",
              "        vertical-align: middle;\n",
              "    }\n",
              "\n",
              "    .dataframe tbody tr th {\n",
              "        vertical-align: top;\n",
              "    }\n",
              "\n",
              "    .dataframe thead th {\n",
              "        text-align: right;\n",
              "    }\n",
              "</style>\n",
              "<table border=\"1\" class=\"dataframe\">\n",
              "  <thead>\n",
              "    <tr style=\"text-align: right;\">\n",
              "      <th></th>\n",
              "      <th>carat</th>\n",
              "      <th>cut</th>\n",
              "      <th>color</th>\n",
              "      <th>clarity</th>\n",
              "      <th>table</th>\n",
              "      <th>x</th>\n",
              "      <th>y</th>\n",
              "      <th>z</th>\n",
              "    </tr>\n",
              "  </thead>\n",
              "  <tbody>\n",
              "    <tr>\n",
              "      <th>0</th>\n",
              "      <td>-1.298722</td>\n",
              "      <td>2</td>\n",
              "      <td>1</td>\n",
              "      <td>3</td>\n",
              "      <td>-1.105452</td>\n",
              "      <td>-1.630486</td>\n",
              "      <td>-1.614019</td>\n",
              "      <td>-1.648928</td>\n",
              "    </tr>\n",
              "    <tr>\n",
              "      <th>1</th>\n",
              "      <td>-1.356148</td>\n",
              "      <td>3</td>\n",
              "      <td>1</td>\n",
              "      <td>2</td>\n",
              "      <td>1.879292</td>\n",
              "      <td>-1.694221</td>\n",
              "      <td>-1.763649</td>\n",
              "      <td>-1.854666</td>\n",
              "    </tr>\n",
              "    <tr>\n",
              "      <th>3</th>\n",
              "      <td>-1.126442</td>\n",
              "      <td>3</td>\n",
              "      <td>5</td>\n",
              "      <td>5</td>\n",
              "      <td>0.386920</td>\n",
              "      <td>-1.364926</td>\n",
              "      <td>-1.346822</td>\n",
              "      <td>-1.306033</td>\n",
              "    </tr>\n",
              "    <tr>\n",
              "      <th>4</th>\n",
              "      <td>-1.069016</td>\n",
              "      <td>1</td>\n",
              "      <td>6</td>\n",
              "      <td>3</td>\n",
              "      <td>0.386920</td>\n",
              "      <td>-1.216212</td>\n",
              "      <td>-1.218567</td>\n",
              "      <td>-1.100295</td>\n",
              "    </tr>\n",
              "    <tr>\n",
              "      <th>5</th>\n",
              "      <td>-1.270009</td>\n",
              "      <td>4</td>\n",
              "      <td>6</td>\n",
              "      <td>7</td>\n",
              "      <td>-0.110537</td>\n",
              "      <td>-1.641109</td>\n",
              "      <td>-1.635394</td>\n",
              "      <td>-1.563205</td>\n",
              "    </tr>\n",
              "    <tr>\n",
              "      <th>...</th>\n",
              "      <td>...</td>\n",
              "      <td>...</td>\n",
              "      <td>...</td>\n",
              "      <td>...</td>\n",
              "      <td>...</td>\n",
              "      <td>...</td>\n",
              "      <td>...</td>\n",
              "      <td>...</td>\n",
              "    </tr>\n",
              "    <tr>\n",
              "      <th>53935</th>\n",
              "      <td>0.108229</td>\n",
              "      <td>2</td>\n",
              "      <td>0</td>\n",
              "      <td>2</td>\n",
              "      <td>-0.110537</td>\n",
              "      <td>0.281549</td>\n",
              "      <td>0.288423</td>\n",
              "      <td>0.185563</td>\n",
              "    </tr>\n",
              "    <tr>\n",
              "      <th>53936</th>\n",
              "      <td>0.108229</td>\n",
              "      <td>1</td>\n",
              "      <td>0</td>\n",
              "      <td>2</td>\n",
              "      <td>-1.105452</td>\n",
              "      <td>0.217815</td>\n",
              "      <td>0.277735</td>\n",
              "      <td>0.374156</td>\n",
              "    </tr>\n",
              "    <tr>\n",
              "      <th>53937</th>\n",
              "      <td>0.050802</td>\n",
              "      <td>4</td>\n",
              "      <td>0</td>\n",
              "      <td>2</td>\n",
              "      <td>1.381835</td>\n",
              "      <td>0.185948</td>\n",
              "      <td>0.202920</td>\n",
              "      <td>0.288432</td>\n",
              "    </tr>\n",
              "    <tr>\n",
              "      <th>53938</th>\n",
              "      <td>0.510215</td>\n",
              "      <td>3</td>\n",
              "      <td>4</td>\n",
              "      <td>3</td>\n",
              "      <td>0.386920</td>\n",
              "      <td>0.706446</td>\n",
              "      <td>0.673187</td>\n",
              "      <td>0.597038</td>\n",
              "    </tr>\n",
              "    <tr>\n",
              "      <th>53939</th>\n",
              "      <td>0.194369</td>\n",
              "      <td>2</td>\n",
              "      <td>0</td>\n",
              "      <td>3</td>\n",
              "      <td>-1.105452</td>\n",
              "      <td>0.366529</td>\n",
              "      <td>0.405990</td>\n",
              "      <td>0.425590</td>\n",
              "    </tr>\n",
              "  </tbody>\n",
              "</table>\n",
              "<p>45343 rows × 8 columns</p>\n",
              "</div>"
            ],
            "text/plain": [
              "          carat  cut  color  clarity     table         x         y         z\n",
              "0     -1.298722    2      1        3 -1.105452 -1.630486 -1.614019 -1.648928\n",
              "1     -1.356148    3      1        2  1.879292 -1.694221 -1.763649 -1.854666\n",
              "3     -1.126442    3      5        5  0.386920 -1.364926 -1.346822 -1.306033\n",
              "4     -1.069016    1      6        3  0.386920 -1.216212 -1.218567 -1.100295\n",
              "5     -1.270009    4      6        7 -0.110537 -1.641109 -1.635394 -1.563205\n",
              "...         ...  ...    ...      ...       ...       ...       ...       ...\n",
              "53935  0.108229    2      0        2 -0.110537  0.281549  0.288423  0.185563\n",
              "53936  0.108229    1      0        2 -1.105452  0.217815  0.277735  0.374156\n",
              "53937  0.050802    4      0        2  1.381835  0.185948  0.202920  0.288432\n",
              "53938  0.510215    3      4        3  0.386920  0.706446  0.673187  0.597038\n",
              "53939  0.194369    2      0        3 -1.105452  0.366529  0.405990  0.425590\n",
              "\n",
              "[45343 rows x 8 columns]"
            ]
          },
          "metadata": {},
          "execution_count": 90
        }
      ]
    },
    {
      "cell_type": "code",
      "metadata": {
        "id": "kXoxTVBPtuMQ"
      },
      "source": [
        "X\n",
        "X=X[:100]\n",
        "Y=Y[:100]"
      ],
      "execution_count": 92,
      "outputs": []
    },
    {
      "cell_type": "code",
      "metadata": {
        "id": "G6piDAviuBBk"
      },
      "source": [
        "from sklearn.model_selection import train_test_split\n",
        "X_train,X_test,Y_train,Y_test= train_test_split(X,Y,test_size=0.50,random_state=43)"
      ],
      "execution_count": 93,
      "outputs": []
    },
    {
      "cell_type": "markdown",
      "metadata": {
        "id": "7UW9nDbMuiJ2"
      },
      "source": [
        "KNN\n"
      ]
    },
    {
      "cell_type": "code",
      "metadata": {
        "id": "BS0hF-suukeu"
      },
      "source": [
        "def KNN(k,X_train,Y_train,X_test):\n",
        "  pred=np.zeros(X_test.shape[0])\n",
        "  for i in range(X_test.shape[0]):\n",
        "    d = np.zeros(X_train.shape[0])\n",
        "    for j in range(X_train.shape[0]):\n",
        "      dist=np.sqrt(np.sum((X.train.values[j]-X_test.values[i])**2))\n",
        "      print(f'i => {i} and j => {j}')\n",
        "      print(f'Distance =. {dist}')\n",
        "      d[j]=dist\n",
        "      d=d.argsort()\n",
        "      print(f'sorted arguments =>{d}')\n",
        "      neighbour= Y_train.values[d[:k]]\n",
        "      print(f'All neighbours sorted acc to distance => {Y_train.values[d]} \\ nnearest neighbour => {neighbour}')\n",
        "      predicted[i]=np.mean(neighbour)\n",
        "      print(f'Predicted =>{pred[i]}\\n\\n\\n\\n\\n\\n')\n",
        "  return pred\n"
      ],
      "execution_count": 107,
      "outputs": []
    },
    {
      "cell_type": "code",
      "metadata": {
        "id": "jNtAioEKzEkJ"
      },
      "source": [
        "y_pred_sc = KNN(3,X_train,Y_train,X_test)\n",
        "y_pred_sc"
      ],
      "execution_count": null,
      "outputs": []
    },
    {
      "cell_type": "code",
      "metadata": {
        "id": "5gPmrzgG1Fpx"
      },
      "source": [
        ""
      ],
      "execution_count": null,
      "outputs": []
    }
  ]
}