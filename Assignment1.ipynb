{
  "nbformat": 4,
  "nbformat_minor": 0,
  "metadata": {
    "colab": {
      "name": "Assignment1.ipynb",
      "provenance": []
    },
    "kernelspec": {
      "name": "python3",
      "display_name": "Python 3"
    },
    "language_info": {
      "name": "python"
    }
  },
  "cells": [
    {
      "cell_type": "markdown",
      "metadata": {
        "id": "2lUdG_su_DYB"
      },
      "source": [
        "The following notebook consists of the first seven Hacker Rank tasks."
      ]
    },
    {
      "cell_type": "code",
      "metadata": {
        "id": "7Q0RkNnr2aUm",
        "colab": {
          "base_uri": "https://localhost:8080/"
        },
        "outputId": "d426f1b2-9007-4fef-9cc4-cf22d84414a3"
      },
      "source": [
        "print(\"Hello,World!\") #HackerRank task 1"
      ],
      "execution_count": 1,
      "outputs": [
        {
          "output_type": "stream",
          "name": "stdout",
          "text": [
            "Hello,World!\n"
          ]
        }
      ]
    },
    {
      "cell_type": "code",
      "metadata": {
        "colab": {
          "base_uri": "https://localhost:8080/"
        },
        "id": "ju4WDYgUEfG1",
        "outputId": "84dd6738-9b9c-4587-bb39-1d33248e1f79"
      },
      "source": [
        "#HackerRank task2 if-else\n",
        "import math\n",
        "import os\n",
        "import random\n",
        "import re\n",
        "import sys\n",
        "\n",
        "\n",
        "\n",
        "if __name__ == '__main__':\n",
        "    n = int(input().strip())\n",
        "if n%2==1:\n",
        "    print(\"Weird\")\n",
        "elif n%2==0 and (n>= 2 and n<6):\n",
        "    print(\"Not Weird\")\n",
        "elif n%2==0 and (n>6 and n<21):\n",
        "    print(\"Weird\")\n",
        "else:\n",
        "    print(\"Not Weird\")"
      ],
      "execution_count": 5,
      "outputs": [
        {
          "output_type": "stream",
          "name": "stdout",
          "text": [
            "22\n",
            "Not Weird\n"
          ]
        }
      ]
    },
    {
      "cell_type": "code",
      "metadata": {
        "colab": {
          "base_uri": "https://localhost:8080/"
        },
        "id": "ORuVwQ0hFcQc",
        "outputId": "ac72fe41-a15f-4447-8faa-b420fbe344cb"
      },
      "source": [
        "#HackerRank task 3 Arithmetic Operators\n",
        "if __name__ == '__main__':\n",
        "    a = int(input())\n",
        "    b = int(input())\n",
        "    add = a+b\n",
        "    sub = a-b\n",
        "    mul = a*b\n",
        "    print(add)\n",
        "    print(sub)\n",
        "    print(mul)"
      ],
      "execution_count": 6,
      "outputs": [
        {
          "output_type": "stream",
          "name": "stdout",
          "text": [
            "2\n",
            "3\n",
            "5\n",
            "-1\n",
            "6\n"
          ]
        }
      ]
    },
    {
      "cell_type": "code",
      "metadata": {
        "colab": {
          "base_uri": "https://localhost:8080/"
        },
        "id": "adHy_MkrGaBR",
        "outputId": "d8d70aa3-d079-4dc0-a96f-3ce32341bcbf"
      },
      "source": [
        "#HackerRank task 4 Division\n",
        "if __name__ == '__main__':\n",
        "    a = int(input())\n",
        "    b = int(input())\n",
        "    d=(a/b)\n",
        "    c=(a//b)\n",
        "    print(c)\n",
        "    print(d)"
      ],
      "execution_count": 7,
      "outputs": [
        {
          "output_type": "stream",
          "name": "stdout",
          "text": [
            "2\n",
            "3\n",
            "0\n",
            "0.6666666666666666\n"
          ]
        }
      ]
    },
    {
      "cell_type": "code",
      "metadata": {
        "colab": {
          "base_uri": "https://localhost:8080/"
        },
        "id": "dB3IJKDDHRxN",
        "outputId": "0913f1f0-f22a-4df3-ad6d-022ed3ec33ef"
      },
      "source": [
        "#HackerRank task 5 Loops\n",
        "if __name__ == '__main__':\n",
        "    n = int(input())\n",
        "    for i in range(n):# 0<= i<n\n",
        "        result = i*i #squaring\n",
        "        print(result)"
      ],
      "execution_count": 8,
      "outputs": [
        {
          "output_type": "stream",
          "name": "stdout",
          "text": [
            "5\n",
            "0\n",
            "1\n",
            "4\n",
            "9\n",
            "16\n"
          ]
        }
      ]
    },
    {
      "cell_type": "code",
      "metadata": {
        "colab": {
          "base_uri": "https://localhost:8080/"
        },
        "id": "cs5msNrpHx0U",
        "outputId": "59bc1e37-d3d5-42b2-9c78-bc731107f8ff"
      },
      "source": [
        "#HackerRank Task 6 function\n",
        "def is_leap(year):\n",
        "    leap = False\n",
        "    \n",
        "    if (year % 4) == 0:\n",
        "        \n",
        "            if (year % 400) == 0:\n",
        "                return True\n",
        "            else:\n",
        "                return leap\n",
        "    else:\n",
        "        return leap\n",
        "\n",
        "    \n",
        "    \n",
        "    return leap\n",
        "\n",
        "year = int(input())"
      ],
      "execution_count": 11,
      "outputs": [
        {
          "name": "stdout",
          "output_type": "stream",
          "text": [
            "1990\n"
          ]
        }
      ]
    },
    {
      "cell_type": "code",
      "metadata": {
        "colab": {
          "base_uri": "https://localhost:8080/"
        },
        "id": "Lsb2Ii8dKk1T",
        "outputId": "161c94a4-b70f-47d8-8bbc-15710a061428"
      },
      "source": [
        "#HackerRank Task 7 print function\n",
        "if __name__ == '__main__':\n",
        "  n = int(input())\n",
        "for i in range(1,n+1):\n",
        "    print(i,end='')\n"
      ],
      "execution_count": 15,
      "outputs": [
        {
          "output_type": "stream",
          "name": "stdout",
          "text": [
            "6\n",
            "123456"
          ]
        }
      ]
    }
  ]
}