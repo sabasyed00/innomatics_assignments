{
  "nbformat": 4,
  "nbformat_minor": 0,
  "metadata": {
    "colab": {
      "name": "assignment 8.ipynb",
      "provenance": [],
      "authorship_tag": "ABX9TyMyMdtd4wUE3s7FZeye/eOu",
      "include_colab_link": true
    },
    "kernelspec": {
      "name": "python3",
      "display_name": "Python 3"
    },
    "language_info": {
      "name": "python"
    }
  },
  "cells": [
    {
      "cell_type": "markdown",
      "metadata": {
        "id": "view-in-github",
        "colab_type": "text"
      },
      "source": [
        "<a href=\"https://colab.research.google.com/github/sabasyed00/innomatics_assignments/blob/main/assignment_8.ipynb\" target=\"_parent\"><img src=\"https://colab.research.google.com/assets/colab-badge.svg\" alt=\"Open In Colab\"/></a>"
      ]
    },
    {
      "cell_type": "code",
      "metadata": {
        "id": "vDtzypKdNeaT"
      },
      "source": [
        "#Binomial distribution\n",
        "\n",
        "def fact(n):\n",
        "    return 1 if n == 0 else n*fact(n-1)\n",
        "\n",
        "def comb(n, x):\n",
        "    return fact(n) / (fact(x) * fact(n-x))\n",
        "\n",
        "def b(x, n, p):\n",
        "    return comb(n, x) * p**x * (1-p)**(n-x)\n",
        "\n",
        "l, r = list(map(float, input().split(\" \")))\n",
        "odds = l / r\n",
        "print(round(sum([b(i, 6, odds / (1 + odds)) for i in range(3, 7)]), 3))"
      ],
      "execution_count": null,
      "outputs": []
    },
    {
      "cell_type": "code",
      "metadata": {
        "id": "iu1Xer8JN_m8"
      },
      "source": [
        "#Binomial distribution II\n",
        "\n",
        "# Enter your code here. Read input from STDIN. Print output to STDOUT\n",
        "def fact(n):\n",
        "    return 1 if n == 0 else n*fact(n-1)\n",
        "\n",
        "def comb(n, x):\n",
        "    return fact(n) / (fact(x) * fact(n-x))\n",
        "\n",
        "def b(x, n, p):\n",
        "    return comb(n, x) * p**x * (1-p)**(n-x)\n",
        "\n",
        "p, n = list(map(int, input().split(\" \")))\n",
        "print(round(sum([b(i, n, p/100) for i in range(3)]), 3))\n",
        "print(round(sum([b(i, n, p/100) for i in range(2, n+1)]), 3))"
      ],
      "execution_count": null,
      "outputs": []
    },
    {
      "cell_type": "code",
      "metadata": {
        "id": "17Z19cFZOs4X"
      },
      "source": [
        "#Normal Distribution I\n",
        "# Enter your code here. Read input from STDIN. Print output to STDOUT\n",
        "import math\n",
        "mean=20.0\n",
        "stddev=2.0\n",
        "h1=19.5\n",
        "h21,h22=20.0,22.0\n",
        "\n",
        "def integrate(func,b,n=10000):\n",
        "    step=1/n\n",
        "    if(b<0):step=-step\n",
        "    n=int(abs(b)*n)\n",
        "    a=0.0\n",
        "    sq=0.0\n",
        "    for _ in range(0,n):\n",
        "        sq+=step*func(a)\n",
        "        a+=step\n",
        "    return abs(sq)\n",
        "\n",
        "erf = lambda b : (2*math.pi**(-0.5)) * integrate(lambda x: math.exp(-x**2),b)\n",
        "phi = lambda b : (1 + erf( (b-mean) / (stddev * 2**0.5) ))/2\n",
        "lesh1 = phi(0.0) - phi(h1)\n",
        "beth1h2 = phi(h22) - phi(h21)\n",
        "print(f'{lesh1:.3f}')\n",
        "print(f'{beth1h2:.3f}')\n"
      ],
      "execution_count": null,
      "outputs": []
    },
    {
      "cell_type": "code",
      "metadata": {
        "id": "HtP-OqlnPYgE"
      },
      "source": [
        "#Normal Distribution II\n",
        "# Enter your code here. Read input from STDIN. Print output to STDOUT\n",
        "import math\n",
        "mean, std = 70, 10\n",
        "cdf = lambda x: 0.5 * (1 + math.erf((x - mean) / (std * (2 ** 0.5))))\n",
        "\n",
        "\n",
        "print(round((1-cdf(80))*100,2))\n",
        "print(round((1-cdf(60))*100,2))\n",
        "print(round((cdf(60))*100,2))"
      ],
      "execution_count": null,
      "outputs": []
    },
    {
      "cell_type": "code",
      "metadata": {
        "id": "vMCnBcu9PGUn"
      },
      "source": [
        "#The central limit theorem\n",
        "# Enter your code here. Read input from STDIN. Print output to STDOUT\n",
        "import math\n",
        "\n",
        "a = int(input())\n",
        "b = int(input())\n",
        "mu = int(input())\n",
        "sigma = int(input())\n",
        "\n",
        "mu_sum = b * mu \n",
        "sigma_sum = math.sqrt(b) * sigma\n",
        "\n",
        "def cdf(a, mu, sigma):\n",
        "    Z = (a - mu)/sigma\n",
        "    return 0.5*(1 + math.erf(Z/(math.sqrt(2))))\n",
        "\n",
        "print(round(cdf(a, mu_sum, sigma_sum), 4))"
      ],
      "execution_count": null,
      "outputs": []
    },
    {
      "cell_type": "code",
      "metadata": {
        "id": "XjZKp1sQQT--"
      },
      "source": [
        "#The central limit theorem II\n",
        "import math\n",
        "\n",
        "numtic = float(input())\n",
        "numstd = float(input())\n",
        "mu = numstd * float(input())\n",
        "sig = math.sqrt(numstd) * float(input())\n",
        "\n",
        "print(round(0.5*(1+math.erf((numtic - mu)/(sig * math.sqrt(2)))),4))"
      ],
      "execution_count": null,
      "outputs": []
    },
    {
      "cell_type": "code",
      "metadata": {
        "id": "axHt4zOiQX17"
      },
      "source": [
        "#The central limit theoram III\n",
        "# Enter your code here. Read input from STDIN. Print output to STDOUT\n",
        "mu, sigma = 500, 80\n",
        "\n",
        "# sample mean distribution\n",
        "muS, sigmaS = mu, sigma/(100**0.5)\n",
        "\n",
        "# confidence intervals of sample mean dist\n",
        "A = mu - (1.96*sigmaS)\n",
        "B = mu + (1.96*sigmaS)\n",
        "\n",
        "print(round(A,2))\n",
        "print(round(B,2))"
      ],
      "execution_count": null,
      "outputs": []
    },
    {
      "cell_type": "code",
      "metadata": {
        "id": "WKmU8CVfQuB9"
      },
      "source": [
        "#Correlation \n",
        "# Enter your code here. Read input from STDIN. Print output to STDOUT\n",
        "N = int(input())\n",
        "X = list(map(float,input().strip().split()))\n",
        "Y = list(map(float,input().strip().split()))\n",
        "\n",
        "mu_x = sum(X) / N\n",
        "mu_y = sum(Y) / N\n",
        "\n",
        "stdv_x = (sum([(i - mu_x)**2 for i in X]) / N)**0.5\n",
        "stdv_y = (sum([(i - mu_y)**2 for i in Y]) / N)**0.5\n",
        "\n",
        "\n",
        "covariance = sum([(X[i] - mu_x) * (Y[i] -mu_y) for i in range(N)])\n",
        "\n",
        "correlation_coefficient = covariance / (N * stdv_x * stdv_y)\n",
        "\n",
        "print(round(correlation_coefficient,3))"
      ],
      "execution_count": null,
      "outputs": []
    },
    {
      "cell_type": "code",
      "metadata": {
        "id": "AyO_z0a3R1r5"
      },
      "source": [
        "#Least Square regression \n",
        "# Enter your code here. Read input from STDIN. Print output to STDOUT\n",
        "# Enter your code here. Read input from STDIN. Print output to STDOUT\n",
        "n = 5\n",
        "ab = [map(int, input().split()) for _ in range(n)]\n",
        "sa, sb, sa2, sab = map(sum, zip(*[(a, b, a**2, a * b) for a, b in ab]))\n",
        "x = (n * sab - sa * sb) / (n * sa2 - sa**2)\n",
        "y = (sb / n) - x * (sa / n)\n",
        "print('{:.3f}'.format(y + x * 80))"
      ],
      "execution_count": null,
      "outputs": []
    },
    {
      "cell_type": "code",
      "metadata": {
        "id": "UY8--A9oSOMA"
      },
      "source": [
        "#Multiple Linear Regression \n",
        "\n",
        "import numpy as np\n",
        "m,n = [int(i) for i in input().strip().split(' ')]\n",
        "X = []\n",
        "Y = []\n",
        "for i in range(n):\n",
        "    data = input().strip().split(' ')\n",
        "    X.append(data[:m])\n",
        "    Y.append(data[m:])\n",
        "q = int(input().strip())\n",
        "X_new = []\n",
        "for x in range(q):\n",
        "    X_new.append(input().strip().split(' '))\n",
        "X = np.array(X,float)\n",
        "Y = np.array(Y,float)\n",
        "X_new = np.array(X_new,float)\n",
        "\n",
        "#center\n",
        "X_R = X-np.mean(X,axis=0)\n",
        "Y_R = Y-np.mean(Y)\n",
        "\n",
        "#calculate beta\n",
        "beta = np.dot(np.linalg.inv(np.dot(X_R.T,X_R)),np.dot(X_R.T,Y_R))\n",
        "\n",
        "#predict\n",
        "X_new_R = X_new-np.mean(X,axis=0)\n",
        "Y_new_R = np.dot(X_new_R,beta)\n",
        "Y_new = Y_new_R + np.mean(Y)\n",
        "\n",
        "#print\n",
        "for i in Y_new:\n",
        "    print(round(float(i),2))"
      ],
      "execution_count": null,
      "outputs": []
    }
  ]
}