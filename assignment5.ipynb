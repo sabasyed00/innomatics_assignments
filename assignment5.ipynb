{
  "nbformat": 4,
  "nbformat_minor": 0,
  "metadata": {
    "colab": {
      "name": "assignment5.ipynb",
      "provenance": [],
      "authorship_tag": "ABX9TyO8A4s3/+l+EsdCKa25iZVw",
      "include_colab_link": true
    },
    "kernelspec": {
      "name": "python3",
      "display_name": "Python 3"
    },
    "language_info": {
      "name": "python"
    }
  },
  "cells": [
    {
      "cell_type": "markdown",
      "metadata": {
        "id": "view-in-github",
        "colab_type": "text"
      },
      "source": [
        "<a href=\"https://colab.research.google.com/github/sabasyed00/innomatics_assignments/blob/main/assignment5.ipynb\" target=\"_parent\"><img src=\"https://colab.research.google.com/assets/colab-badge.svg\" alt=\"Open In Colab\"/></a>"
      ]
    },
    {
      "cell_type": "markdown",
      "metadata": {
        "id": "cfhVMWzEeIYn"
      },
      "source": [
        "Innomatics Hackerrank assignment 5 "
      ]
    },
    {
      "cell_type": "code",
      "metadata": {
        "id": "--ND-vDjfDvb"
      },
      "source": [
        "#Hackerrank task 1 Detect Floating Point Number\n",
        "\n",
        "# Enter your code here. Read input from STDIN. Print output to STDOUT\n",
        "import re\n",
        "n=int(input().strip())\n",
        "for i in range(n):\n",
        "  print(bool(re.fullmatch(r'([+-]?\\.[0-9]+|[+-]?[0-9]+\\.[0-9]+)',input().strip())))# ^[-+]?   = string starts with(^) [+-]? nothing or a plus or minus (note ?=0or1 occurrences)\n",
        "    # [0-9]*   0 or more occurrences of 0-9 numbers\n",
        "    # [\\.]{1}  exactly 1 occurrence of full stop\n",
        "    # [0-9]+  more 0-9 number\n",
        "    # $  end of string"
      ],
      "execution_count": null,
      "outputs": []
    },
    {
      "cell_type": "code",
      "metadata": {
        "id": "Ldo51RB3gVN8"
      },
      "source": [
        "#Hackerrank Task 2 Re.split()\n",
        "regex_pattern = r\"[.,]\"    \n",
        "\n",
        "import re\n",
        "print(\"\\n\".join(re.split(regex_pattern, input("
      ],
      "execution_count": null,
      "outputs": []
    },
    {
      "cell_type": "code",
      "metadata": {
        "id": "0j7S9POJh4sc"
      },
      "source": [
        "#Hackerrank Task 3 Group()\n",
        "\n",
        "import re\n",
        "a = re.findall(r\"([A-Za-z0-9])\\1+\",input())\n",
        "if a:\n",
        "    print(a[0])\n",
        "else:\n",
        "    print(-1)"
      ],
      "execution_count": null,
      "outputs": []
    },
    {
      "cell_type": "code",
      "metadata": {
        "id": "VuaXRtkTibyy"
      },
      "source": [
        "#Hackerrank Task 3 re.findall()\n",
        "\n",
        "import re\n",
        "vow = \"aeiou\"\n",
        "con = \"qwrtypsdfghjklzxcvbnm\"\n",
        "a= re.findall(r\"(?<=[%s])([%s]{2,})[%s]\" % (con, vow, con), input(), flags = re.I)\n",
        "print('\\n'.join(a or ['-1']))"
      ],
      "execution_count": null,
      "outputs": []
    },
    {
      "cell_type": "code",
      "metadata": {
        "id": "0_zQhdgkoFYA"
      },
      "source": [
        "#Hackerrank Task 4 re.start(),re.end()\n",
        "# Enter your code here. Read input from STDIN. Print output to STDOUT\n",
        "a = input()\n",
        "b = input()\n",
        "import re\n",
        "pattern = re.compile(b)\n",
        "r = pattern.search(a)\n",
        "if not r: print(\"(-1, -1)\")\n",
        "while r:\n",
        "    print(\"({0}, {1})\".format(r.start(), r.end() - 1))\n",
        "    r = pattern.search(a,r.start() + 1)"
      ],
      "execution_count": null,
      "outputs": []
    },
    {
      "cell_type": "code",
      "metadata": {
        "id": "_riozDewol4G"
      },
      "source": [
        "#Hackerrank Task 5 regex\n",
        "import re\n",
        "\n",
        "a = int(input())\n",
        "\n",
        "for i in range(0,a):\n",
        "   text = input()\n",
        "   text = re.sub(r\"\\ \\&\\&\\ \",\" and \",text)\n",
        "   text = re.sub(r\"\\ \\|\\|\\ \",\" or \",text)\n",
        "   text = re.sub(r\"\\ \\&\\&\\ \",\" and \",text)\n",
        "   text = re.sub(r\"\\ \\|\\|\\ \",\" or \",text)\n",
        "   print(text)"
      ],
      "execution_count": null,
      "outputs": []
    },
    {
      "cell_type": "code",
      "metadata": {
        "id": "AqmJII71o6d_"
      },
      "source": [
        "#Hackerrank Task 6 roman numerals\n",
        "thousand = 'M{0,3}'\n",
        "hundred = '(C[MD]|D?C{0,3})'\n",
        "ten = '(X[CL]|L?X{0,3})'\n",
        "digit = '(I[VX]|V?I{0,3})'\n",
        "regex_pattern = r\"%s%s%s%s$\" % (thousand, hundred, ten, digit)    \n",
        "import re\n",
        "print(str(bool(re.match(regex_pattern, input()))))"
      ],
      "execution_count": null,
      "outputs": []
    },
    {
      "cell_type": "code",
      "metadata": {
        "id": "iXYb8MRDp_sd"
      },
      "source": [
        "#Hackerrank Task 7 phone numbers\n",
        "\n",
        "import re\n",
        "for _ in range(int(input())):\n",
        "    if re.match(r'[789]\\d{9}$',input()):   \n",
        "        print('YES')  \n",
        "    else:  \n",
        "        print('NO')"
      ],
      "execution_count": null,
      "outputs": []
    },
    {
      "cell_type": "code",
      "metadata": {
        "id": "h8AEmtT0qG7t"
      },
      "source": [
        "#Hackerrank Task 8 email\n",
        "import re\n",
        "e = int(input())\n",
        "for _ in range(e):\n",
        "    x, y = input().split(' ')\n",
        "    a = re.match(r'<[A-Za-z](\\w|-|\\.|_)+@[A-Za-z]+\\.[A-Za-z]{1,3}>', y)\n",
        "    if a:\n",
        "        print(x,y)"
      ],
      "execution_count": null,
      "outputs": []
    },
    {
      "cell_type": "code",
      "metadata": {
        "id": "IgIlPEd8qdtE"
      },
      "source": [
        "#Hackerrank Task 9 color code\n",
        "# Enter your code here. Read input from STDIN. Print output to STDOUT\n",
        "import re\n",
        "a=int(input())\n",
        "\n",
        "for i in range(0,a):\n",
        "    s=input()\n",
        "\n",
        "    x=s.split()\n",
        "\n",
        "    if len(x)>1  and  '{' not in x:\n",
        "        x=re.findall(r'#[a-fA-F0-9]{3,6}',s)\n",
        "        [print(i) for  i in x]"
      ],
      "execution_count": null,
      "outputs": []
    },
    {
      "cell_type": "code",
      "metadata": {
        "id": "fOSOgGV8qz_U"
      },
      "source": [
        ""
      ],
      "execution_count": null,
      "outputs": []
    }
  ]
}